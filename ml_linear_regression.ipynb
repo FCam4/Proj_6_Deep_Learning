{
  "nbformat": 4,
  "nbformat_minor": 0,
  "metadata": {
    "colab": {
      "provenance": [],
      "include_colab_link": true
    },
    "kernelspec": {
      "name": "python3",
      "display_name": "Python 3"
    },
    "language_info": {
      "name": "python"
    }
  },
  "cells": [
    {
      "cell_type": "markdown",
      "metadata": {
        "id": "view-in-github",
        "colab_type": "text"
      },
      "source": [
        "<a href=\"https://colab.research.google.com/github/FCam4/Proj_6_Deep_Learning/blob/main/ml_linear_regression.ipynb\" target=\"_parent\"><img src=\"https://colab.research.google.com/assets/colab-badge.svg\" alt=\"Open In Colab\"/></a>"
      ]
    },
    {
      "cell_type": "code",
      "execution_count": null,
      "metadata": {
        "id": "8GUo2Uwqj5v4"
      },
      "outputs": [],
      "source": [
        "import pandas as pd\n",
        "import numpy as np\n",
        "\n",
        "import matplotlib.pyplot as plt\n",
        "import seaborn as sns\n",
        "\n",
        "import plotly.express as px\n",
        "import plotly.graph_objects as go\n",
        "from plotly.subplots import make_subplots\n",
        "\n",
        "# Algorithms\n",
        "from sklearn.model_selection import train_test_split\n",
        "from sklearn.linear_model import LinearRegression\n",
        "from sklearn.tree import DecisionTreeRegressor\n",
        "from sklearn.neighbors import KNeighborsRegressor\n",
        "from sklearn.linear_model import LinearRegression\n",
        "from sklearn.svm import SVR\n",
        "\n",
        "# Optimization\n",
        "from sklearn.model_selection import GridSearchCV\n",
        "from sklearn.model_selection import RandomizedSearchCV\n",
        "from sklearn.pipeline import make_pipeline\n",
        "from sklearn.pipeline import Pipeline\n",
        "\n",
        "# Regularization\n",
        "from sklearn.linear_model import Ridge\n",
        "from sklearn.linear_model import Lasso\n",
        "from sklearn.linear_model import ElasticNet\n",
        "\n",
        "# Evaluation Metrics\n",
        "from math import sqrt\n",
        "from sklearn.metrics import SCORERS\n",
        "from sklearn.metrics import r2_score\n",
        "from sklearn.metrics import mean_squared_error\n",
        "\n",
        "# Feature Scalling\n",
        "from sklearn.preprocessing import StandardScaler\n",
        "from sklearn.preprocessing import MinMaxScaler"
      ]
    },
    {
      "cell_type": "code",
      "source": [
        "df_1 = pd.read_csv('https://raw.githubusercontent.com/FCam4/Proj_6_Deep_Learning/main/Google_Playstore1.csv')\n",
        "df_2 = pd.read_csv('https://raw.githubusercontent.com/FCam4/Proj_6_Deep_Learning/main/Google_Playstore2.csv')\n",
        "df_3 = pd.read_csv('https://raw.githubusercontent.com/FCam4/Proj_6_Deep_Learning/main/Google_Playstore3.csv')\n",
        "df_4 = pd.read_csv('https://raw.githubusercontent.com/FCam4/Proj_6_Deep_Learning/main/Google_Playstore4.csv')\n",
        "df_5 = pd.read_csv('https://raw.githubusercontent.com/FCam4/Proj_6_Deep_Learning/main/Google_Playstore5.csv')\n",
        "df_6 = pd.read_csv('https://raw.githubusercontent.com/FCam4/Proj_6_Deep_Learning/main/Google_Playstore6.csv')\n",
        "df_7 = pd.read_csv('https://raw.githubusercontent.com/FCam4/Proj_6_Deep_Learning/main/Google_Playstore7.csv')\n",
        "df_8 = pd.read_csv('https://raw.githubusercontent.com/FCam4/Proj_6_Deep_Learning/main/Google_Playstore8.csv')\n",
        "df_9 = pd.read_csv('https://raw.githubusercontent.com/FCam4/Proj_6_Deep_Learning/main/Google_Playstore9.csv')\n",
        "df_10 = pd.read_csv('https://raw.githubusercontent.com/FCam4/Proj_6_Deep_Learning/main/Google_Playstore10.csv')\n",
        "df_12 = pd.concat([df_1, df_2], axis=0)\n",
        "df_123 = pd.concat([df_12, df_3], axis=0)\n",
        "df_1234 = pd.concat([df_123, df_4], axis=0)\n",
        "df_12345 = pd.concat([df_1234, df_5], axis=0)\n",
        "df_123456 = pd.concat([df_12345, df_6], axis=0)\n",
        "df_1234567 = pd.concat([df_123456, df_7], axis=0)\n",
        "df_12345678 = pd.concat([df_1234567, df_8], axis=0)\n",
        "df_123456789 = pd.concat([df_12345678, df_9], axis=0)\n",
        "df_pstore = pd.concat([df_123456789, df_10], axis=0)"
      ],
      "metadata": {
        "id": "chxNhOUIkBZU"
      },
      "execution_count": null,
      "outputs": []
    },
    {
      "cell_type": "code",
      "source": [
        "df_pstore_ml = df_pstore.dropna(subset=['App Name','Rating', 'Rating Count', 'Installs', 'Minimum Installs', 'Maximum Installs', 'Size', 'Developer Id'])\n",
        "df_pstore_ml = pd.get_dummies(df_pstore_ml, columns=['Category'])\n",
        "condition = df_pstore_ml[(df_pstore_ml['Size'] == 'Varies with device')].index\n",
        "df_pstore_ml.drop(condition , inplace=True)"
      ],
      "metadata": {
        "id": "0kO6fTw9kDgp"
      },
      "execution_count": null,
      "outputs": []
    },
    {
      "cell_type": "code",
      "source": [
        "substring = \"M\"\n",
        "def turn_M_to_bite (value):\n",
        "  substring_m = \"M\"\n",
        "  substring_k = \"k\"\n",
        "  substring_g = \"G\"\n",
        "  if substring_m in value:\n",
        "    value = value.replace(substring_m, \"\")\n",
        "    value = value.replace(\",\", \".\")\n",
        "    value = float(value)\n",
        "    value = value*1000000\n",
        "  elif substring_k in value: \n",
        "    value = value.replace(substring_k, \"\")\n",
        "    value = value.replace(\",\", \".\")\n",
        "    # print(value)\n",
        "    value = float(value)\n",
        "    value = value*1000\n",
        "  elif substring_g in value: \n",
        "    value = value.replace(substring_g, \"\")\n",
        "    value = value.replace(\",\", \".\")\n",
        "    # print(value)\n",
        "    value = float(value)\n",
        "    value = value*1000000000\n",
        "  else:\n",
        "    return value\n",
        "  return value\n",
        "\n",
        "df_pstore_ml['Size'] = df_pstore_ml['Size'].apply(turn_M_to_bite)\n",
        "df_pstore_ml['Size'].value_counts()"
      ],
      "metadata": {
        "colab": {
          "base_uri": "https://localhost:8080/"
        },
        "id": "K56UxjjqkKAX",
        "outputId": "5e36d688-1b8e-4cf1-9ab1-5459a0886d7b"
      },
      "execution_count": null,
      "outputs": [
        {
          "output_type": "execute_result",
          "data": {
            "text/plain": [
              "11000000.0     50441\n",
              "12000000.0     45608\n",
              "13000000.0     39022\n",
              "14000000.0     36568\n",
              "16000000.0     34556\n",
              "               ...  \n",
              "351000000.0        1\n",
              "282000000.0        1\n",
              "878000000.0        1\n",
              "426000000.0        1\n",
              "512000000.0        1\n",
              "Name: Size, Length: 1621, dtype: int64"
            ]
          },
          "metadata": {},
          "execution_count": 4
        }
      ]
    },
    {
      "cell_type": "code",
      "source": [
        "X = df_pstore_ml[['Rating Count', 'Maximum Installs', 'Ad Supported', 'Size', 'Category_Action', 'Category_Adventure',\n",
        "       'Category_Arcade', 'Category_Art & Design', 'Category_Auto & Vehicles',\n",
        "       'Category_Beauty', 'Category_Board', 'Category_Books & Reference',\n",
        "       'Category_Business', 'Category_Card', 'Category_Casino',\n",
        "       'Category_Casual', 'Category_Comics', 'Category_Communication',\n",
        "       'Category_Dating', 'Category_Education', 'Category_Educational',\n",
        "       'Category_Entertainment', 'Category_Events', 'Category_Finance',\n",
        "       'Category_Food & Drink', 'Category_Health & Fitness',\n",
        "       'Category_House & Home', 'Category_Libraries & Demo',\n",
        "       'Category_Lifestyle', 'Category_Maps & Navigation', 'Category_Medical',\n",
        "       'Category_Music', 'Category_Music & Audio', 'Category_News & Magazines',\n",
        "       'Category_Parenting', 'Category_Personalization',\n",
        "       'Category_Photography', 'Category_Productivity', 'Category_Puzzle',\n",
        "       'Category_Racing', 'Category_Role Playing', 'Category_Shopping',\n",
        "       'Category_Simulation', 'Category_Social', 'Category_Sports',\n",
        "       'Category_Strategy', 'Category_Tools', 'Category_Travel & Local',\n",
        "       'Category_Trivia', 'Category_Video Players & Editors',\n",
        "       'Category_Weather', 'Category_Word']]\n",
        "y = df_pstore_ml['Rating']\n",
        "\n",
        "X_train, X_test, y_train, y_test = train_test_split(X, y, train_size = 0.75, random_state=19)"
      ],
      "metadata": {
        "id": "SK3atHfGkMaw"
      },
      "execution_count": null,
      "outputs": []
    },
    {
      "cell_type": "code",
      "source": [
        "# Train the scaler, which standarizes all the features to have mean=0 and unit variance\n",
        "sc = StandardScaler()\n",
        "sc.fit(X_train)\n",
        "\n",
        "# Apply the scaler to the X training data\n",
        "X_train_std = sc.transform(X_train)\n",
        "\n",
        "# Apply the SAME scaler to the X test data\n",
        "X_test_std = sc.transform(X_test)"
      ],
      "metadata": {
        "id": "sv1xkrH-5Am5"
      },
      "execution_count": null,
      "outputs": []
    },
    {
      "cell_type": "code",
      "source": [
        "scaler_min_max = MinMaxScaler()\n",
        "scaler_min_max.fit(X_train)\n",
        "\n",
        "# Apply the scaler to the X training data\n",
        "X_train_std_min_max = scaler_min_max.transform(X_train)\n",
        "\n",
        "# Apply the SAME scaler to the X test data\n",
        "X_test_std_min_max = scaler_min_max.transform(X_test)"
      ],
      "metadata": {
        "id": "E8Btgshp4-VV"
      },
      "execution_count": null,
      "outputs": []
    },
    {
      "cell_type": "code",
      "source": [
        "lr_hyp = {\n",
        "    }\n",
        "    \n",
        "pipe_hyp = {\n",
        "    'scaler__with_mean': [True, False],\n",
        "    'scaler__with_std': [True, False],\n",
        "    'lr__n_jobs': [-1]\n",
        "    } \n",
        "\n",
        "pipe_hyp2 = {\n",
        "    } \n",
        "    \n",
        "all_options_dict = {\n",
        "    'models': [LinearRegression(), Pipeline([('scaler', StandardScaler()), ('lr', LinearRegression())]), Pipeline([('minmax', MinMaxScaler()), ('lr', LinearRegression())])],\n",
        "    'hyper': [lr_hyp, pipe_hyp, pipe_hyp2]\n",
        "}\n",
        "\n",
        "all_options_dataframe = pd.DataFrame().from_dict(all_options_dict, orient = 'columns')\n",
        "all_options_dataframe"
      ],
      "metadata": {
        "colab": {
          "base_uri": "https://localhost:8080/",
          "height": 143
        },
        "id": "JRYNuSbXkPqb",
        "outputId": "7b1e3fcd-2072-409b-aebf-9ae29564043a"
      },
      "execution_count": null,
      "outputs": [
        {
          "output_type": "execute_result",
          "data": {
            "text/plain": [
              "                                   models  \\\n",
              "0                      LinearRegression()   \n",
              "1  (StandardScaler(), LinearRegression())   \n",
              "2    (MinMaxScaler(), LinearRegression())   \n",
              "\n",
              "                                               hyper  \n",
              "0                                                 {}  \n",
              "1  {'scaler__with_mean': [True, False], 'scaler__...  \n",
              "2                                                 {}  "
            ],
            "text/html": [
              "\n",
              "  <div id=\"df-43440d44-5141-4b6a-a952-4419e7f6dbc3\">\n",
              "    <div class=\"colab-df-container\">\n",
              "      <div>\n",
              "<style scoped>\n",
              "    .dataframe tbody tr th:only-of-type {\n",
              "        vertical-align: middle;\n",
              "    }\n",
              "\n",
              "    .dataframe tbody tr th {\n",
              "        vertical-align: top;\n",
              "    }\n",
              "\n",
              "    .dataframe thead th {\n",
              "        text-align: right;\n",
              "    }\n",
              "</style>\n",
              "<table border=\"1\" class=\"dataframe\">\n",
              "  <thead>\n",
              "    <tr style=\"text-align: right;\">\n",
              "      <th></th>\n",
              "      <th>models</th>\n",
              "      <th>hyper</th>\n",
              "    </tr>\n",
              "  </thead>\n",
              "  <tbody>\n",
              "    <tr>\n",
              "      <th>0</th>\n",
              "      <td>LinearRegression()</td>\n",
              "      <td>{}</td>\n",
              "    </tr>\n",
              "    <tr>\n",
              "      <th>1</th>\n",
              "      <td>(StandardScaler(), LinearRegression())</td>\n",
              "      <td>{'scaler__with_mean': [True, False], 'scaler__...</td>\n",
              "    </tr>\n",
              "    <tr>\n",
              "      <th>2</th>\n",
              "      <td>(MinMaxScaler(), LinearRegression())</td>\n",
              "      <td>{}</td>\n",
              "    </tr>\n",
              "  </tbody>\n",
              "</table>\n",
              "</div>\n",
              "      <button class=\"colab-df-convert\" onclick=\"convertToInteractive('df-43440d44-5141-4b6a-a952-4419e7f6dbc3')\"\n",
              "              title=\"Convert this dataframe to an interactive table.\"\n",
              "              style=\"display:none;\">\n",
              "        \n",
              "  <svg xmlns=\"http://www.w3.org/2000/svg\" height=\"24px\"viewBox=\"0 0 24 24\"\n",
              "       width=\"24px\">\n",
              "    <path d=\"M0 0h24v24H0V0z\" fill=\"none\"/>\n",
              "    <path d=\"M18.56 5.44l.94 2.06.94-2.06 2.06-.94-2.06-.94-.94-2.06-.94 2.06-2.06.94zm-11 1L8.5 8.5l.94-2.06 2.06-.94-2.06-.94L8.5 2.5l-.94 2.06-2.06.94zm10 10l.94 2.06.94-2.06 2.06-.94-2.06-.94-.94-2.06-.94 2.06-2.06.94z\"/><path d=\"M17.41 7.96l-1.37-1.37c-.4-.4-.92-.59-1.43-.59-.52 0-1.04.2-1.43.59L10.3 9.45l-7.72 7.72c-.78.78-.78 2.05 0 2.83L4 21.41c.39.39.9.59 1.41.59.51 0 1.02-.2 1.41-.59l7.78-7.78 2.81-2.81c.8-.78.8-2.07 0-2.86zM5.41 20L4 18.59l7.72-7.72 1.47 1.35L5.41 20z\"/>\n",
              "  </svg>\n",
              "      </button>\n",
              "      \n",
              "  <style>\n",
              "    .colab-df-container {\n",
              "      display:flex;\n",
              "      flex-wrap:wrap;\n",
              "      gap: 12px;\n",
              "    }\n",
              "\n",
              "    .colab-df-convert {\n",
              "      background-color: #E8F0FE;\n",
              "      border: none;\n",
              "      border-radius: 50%;\n",
              "      cursor: pointer;\n",
              "      display: none;\n",
              "      fill: #1967D2;\n",
              "      height: 32px;\n",
              "      padding: 0 0 0 0;\n",
              "      width: 32px;\n",
              "    }\n",
              "\n",
              "    .colab-df-convert:hover {\n",
              "      background-color: #E2EBFA;\n",
              "      box-shadow: 0px 1px 2px rgba(60, 64, 67, 0.3), 0px 1px 3px 1px rgba(60, 64, 67, 0.15);\n",
              "      fill: #174EA6;\n",
              "    }\n",
              "\n",
              "    [theme=dark] .colab-df-convert {\n",
              "      background-color: #3B4455;\n",
              "      fill: #D2E3FC;\n",
              "    }\n",
              "\n",
              "    [theme=dark] .colab-df-convert:hover {\n",
              "      background-color: #434B5C;\n",
              "      box-shadow: 0px 1px 3px 1px rgba(0, 0, 0, 0.15);\n",
              "      filter: drop-shadow(0px 1px 2px rgba(0, 0, 0, 0.3));\n",
              "      fill: #FFFFFF;\n",
              "    }\n",
              "  </style>\n",
              "\n",
              "      <script>\n",
              "        const buttonEl =\n",
              "          document.querySelector('#df-43440d44-5141-4b6a-a952-4419e7f6dbc3 button.colab-df-convert');\n",
              "        buttonEl.style.display =\n",
              "          google.colab.kernel.accessAllowed ? 'block' : 'none';\n",
              "\n",
              "        async function convertToInteractive(key) {\n",
              "          const element = document.querySelector('#df-43440d44-5141-4b6a-a952-4419e7f6dbc3');\n",
              "          const dataTable =\n",
              "            await google.colab.kernel.invokeFunction('convertToInteractive',\n",
              "                                                     [key], {});\n",
              "          if (!dataTable) return;\n",
              "\n",
              "          const docLinkHtml = 'Like what you see? Visit the ' +\n",
              "            '<a target=\"_blank\" href=https://colab.research.google.com/notebooks/data_table.ipynb>data table notebook</a>'\n",
              "            + ' to learn more about interactive tables.';\n",
              "          element.innerHTML = '';\n",
              "          dataTable['output_type'] = 'display_data';\n",
              "          await google.colab.output.renderOutput(dataTable, element);\n",
              "          const docLink = document.createElement('div');\n",
              "          docLink.innerHTML = docLinkHtml;\n",
              "          element.appendChild(docLink);\n",
              "        }\n",
              "      </script>\n",
              "    </div>\n",
              "  </div>\n",
              "  "
            ]
          },
          "metadata": {},
          "execution_count": 11
        }
      ]
    },
    {
      "cell_type": "code",
      "source": [
        "def grid_search_func(mdl, hyp):\n",
        "  gs = GridSearchCV(mdl, hyp, scoring = 'accuracy')\n",
        "  gs.fit(X_train, y_train)\n",
        "  return gs.best_params_, gs.best_score_\n",
        "\n",
        "all_options_dataframe[['best params', 'best score']] = all_options_dataframe.apply(lambda row: grid_search_func(row['models'], row['hyper']), result_type = 'expand', axis = 1)"
      ],
      "metadata": {
        "colab": {
          "base_uri": "https://localhost:8080/"
        },
        "id": "YeXrsq0bkTaL",
        "outputId": "f8f57faa-3f66-4f55-d897-0d048dc71bb3"
      },
      "execution_count": null,
      "outputs": [
        {
          "output_type": "stream",
          "name": "stderr",
          "text": [
            "/usr/local/lib/python3.8/dist-packages/sklearn/model_selection/_validation.py:770: UserWarning: Scoring failed. The score on this train-test partition for these parameters will be set to nan. Details: \n",
            "Traceback (most recent call last):\n",
            "  File \"/usr/local/lib/python3.8/dist-packages/sklearn/model_selection/_validation.py\", line 761, in _score\n",
            "    scores = scorer(estimator, X_test, y_test)\n",
            "  File \"/usr/local/lib/python3.8/dist-packages/sklearn/metrics/_scorer.py\", line 216, in __call__\n",
            "    return self._score(\n",
            "  File \"/usr/local/lib/python3.8/dist-packages/sklearn/metrics/_scorer.py\", line 264, in _score\n",
            "    return self._sign * self._score_func(y_true, y_pred, **self._kwargs)\n",
            "  File \"/usr/local/lib/python3.8/dist-packages/sklearn/metrics/_classification.py\", line 211, in accuracy_score\n",
            "    y_type, y_true, y_pred = _check_targets(y_true, y_pred)\n",
            "  File \"/usr/local/lib/python3.8/dist-packages/sklearn/metrics/_classification.py\", line 104, in _check_targets\n",
            "    raise ValueError(\"{0} is not supported\".format(y_type))\n",
            "ValueError: continuous is not supported\n",
            "\n",
            "  warnings.warn(\n",
            "/usr/local/lib/python3.8/dist-packages/sklearn/model_selection/_validation.py:770: UserWarning: Scoring failed. The score on this train-test partition for these parameters will be set to nan. Details: \n",
            "Traceback (most recent call last):\n",
            "  File \"/usr/local/lib/python3.8/dist-packages/sklearn/model_selection/_validation.py\", line 761, in _score\n",
            "    scores = scorer(estimator, X_test, y_test)\n",
            "  File \"/usr/local/lib/python3.8/dist-packages/sklearn/metrics/_scorer.py\", line 216, in __call__\n",
            "    return self._score(\n",
            "  File \"/usr/local/lib/python3.8/dist-packages/sklearn/metrics/_scorer.py\", line 264, in _score\n",
            "    return self._sign * self._score_func(y_true, y_pred, **self._kwargs)\n",
            "  File \"/usr/local/lib/python3.8/dist-packages/sklearn/metrics/_classification.py\", line 211, in accuracy_score\n",
            "    y_type, y_true, y_pred = _check_targets(y_true, y_pred)\n",
            "  File \"/usr/local/lib/python3.8/dist-packages/sklearn/metrics/_classification.py\", line 104, in _check_targets\n",
            "    raise ValueError(\"{0} is not supported\".format(y_type))\n",
            "ValueError: continuous is not supported\n",
            "\n",
            "  warnings.warn(\n",
            "/usr/local/lib/python3.8/dist-packages/sklearn/model_selection/_validation.py:770: UserWarning: Scoring failed. The score on this train-test partition for these parameters will be set to nan. Details: \n",
            "Traceback (most recent call last):\n",
            "  File \"/usr/local/lib/python3.8/dist-packages/sklearn/model_selection/_validation.py\", line 761, in _score\n",
            "    scores = scorer(estimator, X_test, y_test)\n",
            "  File \"/usr/local/lib/python3.8/dist-packages/sklearn/metrics/_scorer.py\", line 216, in __call__\n",
            "    return self._score(\n",
            "  File \"/usr/local/lib/python3.8/dist-packages/sklearn/metrics/_scorer.py\", line 264, in _score\n",
            "    return self._sign * self._score_func(y_true, y_pred, **self._kwargs)\n",
            "  File \"/usr/local/lib/python3.8/dist-packages/sklearn/metrics/_classification.py\", line 211, in accuracy_score\n",
            "    y_type, y_true, y_pred = _check_targets(y_true, y_pred)\n",
            "  File \"/usr/local/lib/python3.8/dist-packages/sklearn/metrics/_classification.py\", line 104, in _check_targets\n",
            "    raise ValueError(\"{0} is not supported\".format(y_type))\n",
            "ValueError: continuous is not supported\n",
            "\n",
            "  warnings.warn(\n",
            "/usr/local/lib/python3.8/dist-packages/sklearn/model_selection/_validation.py:770: UserWarning: Scoring failed. The score on this train-test partition for these parameters will be set to nan. Details: \n",
            "Traceback (most recent call last):\n",
            "  File \"/usr/local/lib/python3.8/dist-packages/sklearn/model_selection/_validation.py\", line 761, in _score\n",
            "    scores = scorer(estimator, X_test, y_test)\n",
            "  File \"/usr/local/lib/python3.8/dist-packages/sklearn/metrics/_scorer.py\", line 216, in __call__\n",
            "    return self._score(\n",
            "  File \"/usr/local/lib/python3.8/dist-packages/sklearn/metrics/_scorer.py\", line 264, in _score\n",
            "    return self._sign * self._score_func(y_true, y_pred, **self._kwargs)\n",
            "  File \"/usr/local/lib/python3.8/dist-packages/sklearn/metrics/_classification.py\", line 211, in accuracy_score\n",
            "    y_type, y_true, y_pred = _check_targets(y_true, y_pred)\n",
            "  File \"/usr/local/lib/python3.8/dist-packages/sklearn/metrics/_classification.py\", line 104, in _check_targets\n",
            "    raise ValueError(\"{0} is not supported\".format(y_type))\n",
            "ValueError: continuous is not supported\n",
            "\n",
            "  warnings.warn(\n",
            "/usr/local/lib/python3.8/dist-packages/sklearn/model_selection/_validation.py:770: UserWarning: Scoring failed. The score on this train-test partition for these parameters will be set to nan. Details: \n",
            "Traceback (most recent call last):\n",
            "  File \"/usr/local/lib/python3.8/dist-packages/sklearn/model_selection/_validation.py\", line 761, in _score\n",
            "    scores = scorer(estimator, X_test, y_test)\n",
            "  File \"/usr/local/lib/python3.8/dist-packages/sklearn/metrics/_scorer.py\", line 216, in __call__\n",
            "    return self._score(\n",
            "  File \"/usr/local/lib/python3.8/dist-packages/sklearn/metrics/_scorer.py\", line 264, in _score\n",
            "    return self._sign * self._score_func(y_true, y_pred, **self._kwargs)\n",
            "  File \"/usr/local/lib/python3.8/dist-packages/sklearn/metrics/_classification.py\", line 211, in accuracy_score\n",
            "    y_type, y_true, y_pred = _check_targets(y_true, y_pred)\n",
            "  File \"/usr/local/lib/python3.8/dist-packages/sklearn/metrics/_classification.py\", line 104, in _check_targets\n",
            "    raise ValueError(\"{0} is not supported\".format(y_type))\n",
            "ValueError: continuous is not supported\n",
            "\n",
            "  warnings.warn(\n",
            "/usr/local/lib/python3.8/dist-packages/sklearn/model_selection/_search.py:969: UserWarning: One or more of the test scores are non-finite: [nan]\n",
            "  warnings.warn(\n",
            "/usr/local/lib/python3.8/dist-packages/sklearn/model_selection/_validation.py:770: UserWarning: Scoring failed. The score on this train-test partition for these parameters will be set to nan. Details: \n",
            "Traceback (most recent call last):\n",
            "  File \"/usr/local/lib/python3.8/dist-packages/sklearn/model_selection/_validation.py\", line 761, in _score\n",
            "    scores = scorer(estimator, X_test, y_test)\n",
            "  File \"/usr/local/lib/python3.8/dist-packages/sklearn/metrics/_scorer.py\", line 216, in __call__\n",
            "    return self._score(\n",
            "  File \"/usr/local/lib/python3.8/dist-packages/sklearn/metrics/_scorer.py\", line 264, in _score\n",
            "    return self._sign * self._score_func(y_true, y_pred, **self._kwargs)\n",
            "  File \"/usr/local/lib/python3.8/dist-packages/sklearn/metrics/_classification.py\", line 211, in accuracy_score\n",
            "    y_type, y_true, y_pred = _check_targets(y_true, y_pred)\n",
            "  File \"/usr/local/lib/python3.8/dist-packages/sklearn/metrics/_classification.py\", line 104, in _check_targets\n",
            "    raise ValueError(\"{0} is not supported\".format(y_type))\n",
            "ValueError: continuous is not supported\n",
            "\n",
            "  warnings.warn(\n",
            "/usr/local/lib/python3.8/dist-packages/sklearn/model_selection/_validation.py:770: UserWarning: Scoring failed. The score on this train-test partition for these parameters will be set to nan. Details: \n",
            "Traceback (most recent call last):\n",
            "  File \"/usr/local/lib/python3.8/dist-packages/sklearn/model_selection/_validation.py\", line 761, in _score\n",
            "    scores = scorer(estimator, X_test, y_test)\n",
            "  File \"/usr/local/lib/python3.8/dist-packages/sklearn/metrics/_scorer.py\", line 216, in __call__\n",
            "    return self._score(\n",
            "  File \"/usr/local/lib/python3.8/dist-packages/sklearn/metrics/_scorer.py\", line 264, in _score\n",
            "    return self._sign * self._score_func(y_true, y_pred, **self._kwargs)\n",
            "  File \"/usr/local/lib/python3.8/dist-packages/sklearn/metrics/_classification.py\", line 211, in accuracy_score\n",
            "    y_type, y_true, y_pred = _check_targets(y_true, y_pred)\n",
            "  File \"/usr/local/lib/python3.8/dist-packages/sklearn/metrics/_classification.py\", line 104, in _check_targets\n",
            "    raise ValueError(\"{0} is not supported\".format(y_type))\n",
            "ValueError: continuous is not supported\n",
            "\n",
            "  warnings.warn(\n",
            "/usr/local/lib/python3.8/dist-packages/sklearn/model_selection/_validation.py:770: UserWarning: Scoring failed. The score on this train-test partition for these parameters will be set to nan. Details: \n",
            "Traceback (most recent call last):\n",
            "  File \"/usr/local/lib/python3.8/dist-packages/sklearn/model_selection/_validation.py\", line 761, in _score\n",
            "    scores = scorer(estimator, X_test, y_test)\n",
            "  File \"/usr/local/lib/python3.8/dist-packages/sklearn/metrics/_scorer.py\", line 216, in __call__\n",
            "    return self._score(\n",
            "  File \"/usr/local/lib/python3.8/dist-packages/sklearn/metrics/_scorer.py\", line 264, in _score\n",
            "    return self._sign * self._score_func(y_true, y_pred, **self._kwargs)\n",
            "  File \"/usr/local/lib/python3.8/dist-packages/sklearn/metrics/_classification.py\", line 211, in accuracy_score\n",
            "    y_type, y_true, y_pred = _check_targets(y_true, y_pred)\n",
            "  File \"/usr/local/lib/python3.8/dist-packages/sklearn/metrics/_classification.py\", line 104, in _check_targets\n",
            "    raise ValueError(\"{0} is not supported\".format(y_type))\n",
            "ValueError: continuous is not supported\n",
            "\n",
            "  warnings.warn(\n",
            "/usr/local/lib/python3.8/dist-packages/sklearn/model_selection/_validation.py:770: UserWarning: Scoring failed. The score on this train-test partition for these parameters will be set to nan. Details: \n",
            "Traceback (most recent call last):\n",
            "  File \"/usr/local/lib/python3.8/dist-packages/sklearn/model_selection/_validation.py\", line 761, in _score\n",
            "    scores = scorer(estimator, X_test, y_test)\n",
            "  File \"/usr/local/lib/python3.8/dist-packages/sklearn/metrics/_scorer.py\", line 216, in __call__\n",
            "    return self._score(\n",
            "  File \"/usr/local/lib/python3.8/dist-packages/sklearn/metrics/_scorer.py\", line 264, in _score\n",
            "    return self._sign * self._score_func(y_true, y_pred, **self._kwargs)\n",
            "  File \"/usr/local/lib/python3.8/dist-packages/sklearn/metrics/_classification.py\", line 211, in accuracy_score\n",
            "    y_type, y_true, y_pred = _check_targets(y_true, y_pred)\n",
            "  File \"/usr/local/lib/python3.8/dist-packages/sklearn/metrics/_classification.py\", line 104, in _check_targets\n",
            "    raise ValueError(\"{0} is not supported\".format(y_type))\n",
            "ValueError: continuous is not supported\n",
            "\n",
            "  warnings.warn(\n",
            "/usr/local/lib/python3.8/dist-packages/sklearn/model_selection/_validation.py:770: UserWarning: Scoring failed. The score on this train-test partition for these parameters will be set to nan. Details: \n",
            "Traceback (most recent call last):\n",
            "  File \"/usr/local/lib/python3.8/dist-packages/sklearn/model_selection/_validation.py\", line 761, in _score\n",
            "    scores = scorer(estimator, X_test, y_test)\n",
            "  File \"/usr/local/lib/python3.8/dist-packages/sklearn/metrics/_scorer.py\", line 216, in __call__\n",
            "    return self._score(\n",
            "  File \"/usr/local/lib/python3.8/dist-packages/sklearn/metrics/_scorer.py\", line 264, in _score\n",
            "    return self._sign * self._score_func(y_true, y_pred, **self._kwargs)\n",
            "  File \"/usr/local/lib/python3.8/dist-packages/sklearn/metrics/_classification.py\", line 211, in accuracy_score\n",
            "    y_type, y_true, y_pred = _check_targets(y_true, y_pred)\n",
            "  File \"/usr/local/lib/python3.8/dist-packages/sklearn/metrics/_classification.py\", line 104, in _check_targets\n",
            "    raise ValueError(\"{0} is not supported\".format(y_type))\n",
            "ValueError: continuous is not supported\n",
            "\n",
            "  warnings.warn(\n",
            "/usr/local/lib/python3.8/dist-packages/sklearn/model_selection/_validation.py:770: UserWarning: Scoring failed. The score on this train-test partition for these parameters will be set to nan. Details: \n",
            "Traceback (most recent call last):\n",
            "  File \"/usr/local/lib/python3.8/dist-packages/sklearn/model_selection/_validation.py\", line 761, in _score\n",
            "    scores = scorer(estimator, X_test, y_test)\n",
            "  File \"/usr/local/lib/python3.8/dist-packages/sklearn/metrics/_scorer.py\", line 216, in __call__\n",
            "    return self._score(\n",
            "  File \"/usr/local/lib/python3.8/dist-packages/sklearn/metrics/_scorer.py\", line 264, in _score\n",
            "    return self._sign * self._score_func(y_true, y_pred, **self._kwargs)\n",
            "  File \"/usr/local/lib/python3.8/dist-packages/sklearn/metrics/_classification.py\", line 211, in accuracy_score\n",
            "    y_type, y_true, y_pred = _check_targets(y_true, y_pred)\n",
            "  File \"/usr/local/lib/python3.8/dist-packages/sklearn/metrics/_classification.py\", line 104, in _check_targets\n",
            "    raise ValueError(\"{0} is not supported\".format(y_type))\n",
            "ValueError: continuous is not supported\n",
            "\n",
            "  warnings.warn(\n",
            "/usr/local/lib/python3.8/dist-packages/sklearn/model_selection/_validation.py:770: UserWarning: Scoring failed. The score on this train-test partition for these parameters will be set to nan. Details: \n",
            "Traceback (most recent call last):\n",
            "  File \"/usr/local/lib/python3.8/dist-packages/sklearn/model_selection/_validation.py\", line 761, in _score\n",
            "    scores = scorer(estimator, X_test, y_test)\n",
            "  File \"/usr/local/lib/python3.8/dist-packages/sklearn/metrics/_scorer.py\", line 216, in __call__\n",
            "    return self._score(\n",
            "  File \"/usr/local/lib/python3.8/dist-packages/sklearn/metrics/_scorer.py\", line 264, in _score\n",
            "    return self._sign * self._score_func(y_true, y_pred, **self._kwargs)\n",
            "  File \"/usr/local/lib/python3.8/dist-packages/sklearn/metrics/_classification.py\", line 211, in accuracy_score\n",
            "    y_type, y_true, y_pred = _check_targets(y_true, y_pred)\n",
            "  File \"/usr/local/lib/python3.8/dist-packages/sklearn/metrics/_classification.py\", line 104, in _check_targets\n",
            "    raise ValueError(\"{0} is not supported\".format(y_type))\n",
            "ValueError: continuous is not supported\n",
            "\n",
            "  warnings.warn(\n",
            "/usr/local/lib/python3.8/dist-packages/sklearn/model_selection/_validation.py:770: UserWarning: Scoring failed. The score on this train-test partition for these parameters will be set to nan. Details: \n",
            "Traceback (most recent call last):\n",
            "  File \"/usr/local/lib/python3.8/dist-packages/sklearn/model_selection/_validation.py\", line 761, in _score\n",
            "    scores = scorer(estimator, X_test, y_test)\n",
            "  File \"/usr/local/lib/python3.8/dist-packages/sklearn/metrics/_scorer.py\", line 216, in __call__\n",
            "    return self._score(\n",
            "  File \"/usr/local/lib/python3.8/dist-packages/sklearn/metrics/_scorer.py\", line 264, in _score\n",
            "    return self._sign * self._score_func(y_true, y_pred, **self._kwargs)\n",
            "  File \"/usr/local/lib/python3.8/dist-packages/sklearn/metrics/_classification.py\", line 211, in accuracy_score\n",
            "    y_type, y_true, y_pred = _check_targets(y_true, y_pred)\n",
            "  File \"/usr/local/lib/python3.8/dist-packages/sklearn/metrics/_classification.py\", line 104, in _check_targets\n",
            "    raise ValueError(\"{0} is not supported\".format(y_type))\n",
            "ValueError: continuous is not supported\n",
            "\n",
            "  warnings.warn(\n",
            "/usr/local/lib/python3.8/dist-packages/sklearn/model_selection/_validation.py:770: UserWarning: Scoring failed. The score on this train-test partition for these parameters will be set to nan. Details: \n",
            "Traceback (most recent call last):\n",
            "  File \"/usr/local/lib/python3.8/dist-packages/sklearn/model_selection/_validation.py\", line 761, in _score\n",
            "    scores = scorer(estimator, X_test, y_test)\n",
            "  File \"/usr/local/lib/python3.8/dist-packages/sklearn/metrics/_scorer.py\", line 216, in __call__\n",
            "    return self._score(\n",
            "  File \"/usr/local/lib/python3.8/dist-packages/sklearn/metrics/_scorer.py\", line 264, in _score\n",
            "    return self._sign * self._score_func(y_true, y_pred, **self._kwargs)\n",
            "  File \"/usr/local/lib/python3.8/dist-packages/sklearn/metrics/_classification.py\", line 211, in accuracy_score\n",
            "    y_type, y_true, y_pred = _check_targets(y_true, y_pred)\n",
            "  File \"/usr/local/lib/python3.8/dist-packages/sklearn/metrics/_classification.py\", line 104, in _check_targets\n",
            "    raise ValueError(\"{0} is not supported\".format(y_type))\n",
            "ValueError: continuous is not supported\n",
            "\n",
            "  warnings.warn(\n",
            "/usr/local/lib/python3.8/dist-packages/sklearn/model_selection/_validation.py:770: UserWarning: Scoring failed. The score on this train-test partition for these parameters will be set to nan. Details: \n",
            "Traceback (most recent call last):\n",
            "  File \"/usr/local/lib/python3.8/dist-packages/sklearn/model_selection/_validation.py\", line 761, in _score\n",
            "    scores = scorer(estimator, X_test, y_test)\n",
            "  File \"/usr/local/lib/python3.8/dist-packages/sklearn/metrics/_scorer.py\", line 216, in __call__\n",
            "    return self._score(\n",
            "  File \"/usr/local/lib/python3.8/dist-packages/sklearn/metrics/_scorer.py\", line 264, in _score\n",
            "    return self._sign * self._score_func(y_true, y_pred, **self._kwargs)\n",
            "  File \"/usr/local/lib/python3.8/dist-packages/sklearn/metrics/_classification.py\", line 211, in accuracy_score\n",
            "    y_type, y_true, y_pred = _check_targets(y_true, y_pred)\n",
            "  File \"/usr/local/lib/python3.8/dist-packages/sklearn/metrics/_classification.py\", line 104, in _check_targets\n",
            "    raise ValueError(\"{0} is not supported\".format(y_type))\n",
            "ValueError: continuous is not supported\n",
            "\n",
            "  warnings.warn(\n",
            "/usr/local/lib/python3.8/dist-packages/sklearn/model_selection/_validation.py:770: UserWarning: Scoring failed. The score on this train-test partition for these parameters will be set to nan. Details: \n",
            "Traceback (most recent call last):\n",
            "  File \"/usr/local/lib/python3.8/dist-packages/sklearn/model_selection/_validation.py\", line 761, in _score\n",
            "    scores = scorer(estimator, X_test, y_test)\n",
            "  File \"/usr/local/lib/python3.8/dist-packages/sklearn/metrics/_scorer.py\", line 216, in __call__\n",
            "    return self._score(\n",
            "  File \"/usr/local/lib/python3.8/dist-packages/sklearn/metrics/_scorer.py\", line 264, in _score\n",
            "    return self._sign * self._score_func(y_true, y_pred, **self._kwargs)\n",
            "  File \"/usr/local/lib/python3.8/dist-packages/sklearn/metrics/_classification.py\", line 211, in accuracy_score\n",
            "    y_type, y_true, y_pred = _check_targets(y_true, y_pred)\n",
            "  File \"/usr/local/lib/python3.8/dist-packages/sklearn/metrics/_classification.py\", line 104, in _check_targets\n",
            "    raise ValueError(\"{0} is not supported\".format(y_type))\n",
            "ValueError: continuous is not supported\n",
            "\n",
            "  warnings.warn(\n",
            "/usr/local/lib/python3.8/dist-packages/sklearn/model_selection/_validation.py:770: UserWarning: Scoring failed. The score on this train-test partition for these parameters will be set to nan. Details: \n",
            "Traceback (most recent call last):\n",
            "  File \"/usr/local/lib/python3.8/dist-packages/sklearn/model_selection/_validation.py\", line 761, in _score\n",
            "    scores = scorer(estimator, X_test, y_test)\n",
            "  File \"/usr/local/lib/python3.8/dist-packages/sklearn/metrics/_scorer.py\", line 216, in __call__\n",
            "    return self._score(\n",
            "  File \"/usr/local/lib/python3.8/dist-packages/sklearn/metrics/_scorer.py\", line 264, in _score\n",
            "    return self._sign * self._score_func(y_true, y_pred, **self._kwargs)\n",
            "  File \"/usr/local/lib/python3.8/dist-packages/sklearn/metrics/_classification.py\", line 211, in accuracy_score\n",
            "    y_type, y_true, y_pred = _check_targets(y_true, y_pred)\n",
            "  File \"/usr/local/lib/python3.8/dist-packages/sklearn/metrics/_classification.py\", line 104, in _check_targets\n",
            "    raise ValueError(\"{0} is not supported\".format(y_type))\n",
            "ValueError: continuous is not supported\n",
            "\n",
            "  warnings.warn(\n",
            "/usr/local/lib/python3.8/dist-packages/sklearn/model_selection/_validation.py:770: UserWarning: Scoring failed. The score on this train-test partition for these parameters will be set to nan. Details: \n",
            "Traceback (most recent call last):\n",
            "  File \"/usr/local/lib/python3.8/dist-packages/sklearn/model_selection/_validation.py\", line 761, in _score\n",
            "    scores = scorer(estimator, X_test, y_test)\n",
            "  File \"/usr/local/lib/python3.8/dist-packages/sklearn/metrics/_scorer.py\", line 216, in __call__\n",
            "    return self._score(\n",
            "  File \"/usr/local/lib/python3.8/dist-packages/sklearn/metrics/_scorer.py\", line 264, in _score\n",
            "    return self._sign * self._score_func(y_true, y_pred, **self._kwargs)\n",
            "  File \"/usr/local/lib/python3.8/dist-packages/sklearn/metrics/_classification.py\", line 211, in accuracy_score\n",
            "    y_type, y_true, y_pred = _check_targets(y_true, y_pred)\n",
            "  File \"/usr/local/lib/python3.8/dist-packages/sklearn/metrics/_classification.py\", line 104, in _check_targets\n",
            "    raise ValueError(\"{0} is not supported\".format(y_type))\n",
            "ValueError: continuous is not supported\n",
            "\n",
            "  warnings.warn(\n",
            "/usr/local/lib/python3.8/dist-packages/sklearn/model_selection/_validation.py:770: UserWarning: Scoring failed. The score on this train-test partition for these parameters will be set to nan. Details: \n",
            "Traceback (most recent call last):\n",
            "  File \"/usr/local/lib/python3.8/dist-packages/sklearn/model_selection/_validation.py\", line 761, in _score\n",
            "    scores = scorer(estimator, X_test, y_test)\n",
            "  File \"/usr/local/lib/python3.8/dist-packages/sklearn/metrics/_scorer.py\", line 216, in __call__\n",
            "    return self._score(\n",
            "  File \"/usr/local/lib/python3.8/dist-packages/sklearn/metrics/_scorer.py\", line 264, in _score\n",
            "    return self._sign * self._score_func(y_true, y_pred, **self._kwargs)\n",
            "  File \"/usr/local/lib/python3.8/dist-packages/sklearn/metrics/_classification.py\", line 211, in accuracy_score\n",
            "    y_type, y_true, y_pred = _check_targets(y_true, y_pred)\n",
            "  File \"/usr/local/lib/python3.8/dist-packages/sklearn/metrics/_classification.py\", line 104, in _check_targets\n",
            "    raise ValueError(\"{0} is not supported\".format(y_type))\n",
            "ValueError: continuous is not supported\n",
            "\n",
            "  warnings.warn(\n",
            "/usr/local/lib/python3.8/dist-packages/sklearn/model_selection/_validation.py:770: UserWarning: Scoring failed. The score on this train-test partition for these parameters will be set to nan. Details: \n",
            "Traceback (most recent call last):\n",
            "  File \"/usr/local/lib/python3.8/dist-packages/sklearn/model_selection/_validation.py\", line 761, in _score\n",
            "    scores = scorer(estimator, X_test, y_test)\n",
            "  File \"/usr/local/lib/python3.8/dist-packages/sklearn/metrics/_scorer.py\", line 216, in __call__\n",
            "    return self._score(\n",
            "  File \"/usr/local/lib/python3.8/dist-packages/sklearn/metrics/_scorer.py\", line 264, in _score\n",
            "    return self._sign * self._score_func(y_true, y_pred, **self._kwargs)\n",
            "  File \"/usr/local/lib/python3.8/dist-packages/sklearn/metrics/_classification.py\", line 211, in accuracy_score\n",
            "    y_type, y_true, y_pred = _check_targets(y_true, y_pred)\n",
            "  File \"/usr/local/lib/python3.8/dist-packages/sklearn/metrics/_classification.py\", line 104, in _check_targets\n",
            "    raise ValueError(\"{0} is not supported\".format(y_type))\n",
            "ValueError: continuous is not supported\n",
            "\n",
            "  warnings.warn(\n",
            "/usr/local/lib/python3.8/dist-packages/sklearn/model_selection/_validation.py:770: UserWarning: Scoring failed. The score on this train-test partition for these parameters will be set to nan. Details: \n",
            "Traceback (most recent call last):\n",
            "  File \"/usr/local/lib/python3.8/dist-packages/sklearn/model_selection/_validation.py\", line 761, in _score\n",
            "    scores = scorer(estimator, X_test, y_test)\n",
            "  File \"/usr/local/lib/python3.8/dist-packages/sklearn/metrics/_scorer.py\", line 216, in __call__\n",
            "    return self._score(\n",
            "  File \"/usr/local/lib/python3.8/dist-packages/sklearn/metrics/_scorer.py\", line 264, in _score\n",
            "    return self._sign * self._score_func(y_true, y_pred, **self._kwargs)\n",
            "  File \"/usr/local/lib/python3.8/dist-packages/sklearn/metrics/_classification.py\", line 211, in accuracy_score\n",
            "    y_type, y_true, y_pred = _check_targets(y_true, y_pred)\n",
            "  File \"/usr/local/lib/python3.8/dist-packages/sklearn/metrics/_classification.py\", line 104, in _check_targets\n",
            "    raise ValueError(\"{0} is not supported\".format(y_type))\n",
            "ValueError: continuous is not supported\n",
            "\n",
            "  warnings.warn(\n",
            "/usr/local/lib/python3.8/dist-packages/sklearn/model_selection/_validation.py:770: UserWarning: Scoring failed. The score on this train-test partition for these parameters will be set to nan. Details: \n",
            "Traceback (most recent call last):\n",
            "  File \"/usr/local/lib/python3.8/dist-packages/sklearn/model_selection/_validation.py\", line 761, in _score\n",
            "    scores = scorer(estimator, X_test, y_test)\n",
            "  File \"/usr/local/lib/python3.8/dist-packages/sklearn/metrics/_scorer.py\", line 216, in __call__\n",
            "    return self._score(\n",
            "  File \"/usr/local/lib/python3.8/dist-packages/sklearn/metrics/_scorer.py\", line 264, in _score\n",
            "    return self._sign * self._score_func(y_true, y_pred, **self._kwargs)\n",
            "  File \"/usr/local/lib/python3.8/dist-packages/sklearn/metrics/_classification.py\", line 211, in accuracy_score\n",
            "    y_type, y_true, y_pred = _check_targets(y_true, y_pred)\n",
            "  File \"/usr/local/lib/python3.8/dist-packages/sklearn/metrics/_classification.py\", line 104, in _check_targets\n",
            "    raise ValueError(\"{0} is not supported\".format(y_type))\n",
            "ValueError: continuous is not supported\n",
            "\n",
            "  warnings.warn(\n",
            "/usr/local/lib/python3.8/dist-packages/sklearn/model_selection/_validation.py:770: UserWarning: Scoring failed. The score on this train-test partition for these parameters will be set to nan. Details: \n",
            "Traceback (most recent call last):\n",
            "  File \"/usr/local/lib/python3.8/dist-packages/sklearn/model_selection/_validation.py\", line 761, in _score\n",
            "    scores = scorer(estimator, X_test, y_test)\n",
            "  File \"/usr/local/lib/python3.8/dist-packages/sklearn/metrics/_scorer.py\", line 216, in __call__\n",
            "    return self._score(\n",
            "  File \"/usr/local/lib/python3.8/dist-packages/sklearn/metrics/_scorer.py\", line 264, in _score\n",
            "    return self._sign * self._score_func(y_true, y_pred, **self._kwargs)\n",
            "  File \"/usr/local/lib/python3.8/dist-packages/sklearn/metrics/_classification.py\", line 211, in accuracy_score\n",
            "    y_type, y_true, y_pred = _check_targets(y_true, y_pred)\n",
            "  File \"/usr/local/lib/python3.8/dist-packages/sklearn/metrics/_classification.py\", line 104, in _check_targets\n",
            "    raise ValueError(\"{0} is not supported\".format(y_type))\n",
            "ValueError: continuous is not supported\n",
            "\n",
            "  warnings.warn(\n",
            "/usr/local/lib/python3.8/dist-packages/sklearn/model_selection/_validation.py:770: UserWarning: Scoring failed. The score on this train-test partition for these parameters will be set to nan. Details: \n",
            "Traceback (most recent call last):\n",
            "  File \"/usr/local/lib/python3.8/dist-packages/sklearn/model_selection/_validation.py\", line 761, in _score\n",
            "    scores = scorer(estimator, X_test, y_test)\n",
            "  File \"/usr/local/lib/python3.8/dist-packages/sklearn/metrics/_scorer.py\", line 216, in __call__\n",
            "    return self._score(\n",
            "  File \"/usr/local/lib/python3.8/dist-packages/sklearn/metrics/_scorer.py\", line 264, in _score\n",
            "    return self._sign * self._score_func(y_true, y_pred, **self._kwargs)\n",
            "  File \"/usr/local/lib/python3.8/dist-packages/sklearn/metrics/_classification.py\", line 211, in accuracy_score\n",
            "    y_type, y_true, y_pred = _check_targets(y_true, y_pred)\n",
            "  File \"/usr/local/lib/python3.8/dist-packages/sklearn/metrics/_classification.py\", line 104, in _check_targets\n",
            "    raise ValueError(\"{0} is not supported\".format(y_type))\n",
            "ValueError: continuous is not supported\n",
            "\n",
            "  warnings.warn(\n",
            "/usr/local/lib/python3.8/dist-packages/sklearn/model_selection/_validation.py:770: UserWarning: Scoring failed. The score on this train-test partition for these parameters will be set to nan. Details: \n",
            "Traceback (most recent call last):\n",
            "  File \"/usr/local/lib/python3.8/dist-packages/sklearn/model_selection/_validation.py\", line 761, in _score\n",
            "    scores = scorer(estimator, X_test, y_test)\n",
            "  File \"/usr/local/lib/python3.8/dist-packages/sklearn/metrics/_scorer.py\", line 216, in __call__\n",
            "    return self._score(\n",
            "  File \"/usr/local/lib/python3.8/dist-packages/sklearn/metrics/_scorer.py\", line 264, in _score\n",
            "    return self._sign * self._score_func(y_true, y_pred, **self._kwargs)\n",
            "  File \"/usr/local/lib/python3.8/dist-packages/sklearn/metrics/_classification.py\", line 211, in accuracy_score\n",
            "    y_type, y_true, y_pred = _check_targets(y_true, y_pred)\n",
            "  File \"/usr/local/lib/python3.8/dist-packages/sklearn/metrics/_classification.py\", line 104, in _check_targets\n",
            "    raise ValueError(\"{0} is not supported\".format(y_type))\n",
            "ValueError: continuous is not supported\n",
            "\n",
            "  warnings.warn(\n",
            "/usr/local/lib/python3.8/dist-packages/sklearn/model_selection/_search.py:969: UserWarning: One or more of the test scores are non-finite: [nan nan nan nan]\n",
            "  warnings.warn(\n",
            "/usr/local/lib/python3.8/dist-packages/sklearn/model_selection/_validation.py:770: UserWarning: Scoring failed. The score on this train-test partition for these parameters will be set to nan. Details: \n",
            "Traceback (most recent call last):\n",
            "  File \"/usr/local/lib/python3.8/dist-packages/sklearn/model_selection/_validation.py\", line 761, in _score\n",
            "    scores = scorer(estimator, X_test, y_test)\n",
            "  File \"/usr/local/lib/python3.8/dist-packages/sklearn/metrics/_scorer.py\", line 216, in __call__\n",
            "    return self._score(\n",
            "  File \"/usr/local/lib/python3.8/dist-packages/sklearn/metrics/_scorer.py\", line 264, in _score\n",
            "    return self._sign * self._score_func(y_true, y_pred, **self._kwargs)\n",
            "  File \"/usr/local/lib/python3.8/dist-packages/sklearn/metrics/_classification.py\", line 211, in accuracy_score\n",
            "    y_type, y_true, y_pred = _check_targets(y_true, y_pred)\n",
            "  File \"/usr/local/lib/python3.8/dist-packages/sklearn/metrics/_classification.py\", line 104, in _check_targets\n",
            "    raise ValueError(\"{0} is not supported\".format(y_type))\n",
            "ValueError: continuous is not supported\n",
            "\n",
            "  warnings.warn(\n",
            "/usr/local/lib/python3.8/dist-packages/sklearn/model_selection/_validation.py:770: UserWarning: Scoring failed. The score on this train-test partition for these parameters will be set to nan. Details: \n",
            "Traceback (most recent call last):\n",
            "  File \"/usr/local/lib/python3.8/dist-packages/sklearn/model_selection/_validation.py\", line 761, in _score\n",
            "    scores = scorer(estimator, X_test, y_test)\n",
            "  File \"/usr/local/lib/python3.8/dist-packages/sklearn/metrics/_scorer.py\", line 216, in __call__\n",
            "    return self._score(\n",
            "  File \"/usr/local/lib/python3.8/dist-packages/sklearn/metrics/_scorer.py\", line 264, in _score\n",
            "    return self._sign * self._score_func(y_true, y_pred, **self._kwargs)\n",
            "  File \"/usr/local/lib/python3.8/dist-packages/sklearn/metrics/_classification.py\", line 211, in accuracy_score\n",
            "    y_type, y_true, y_pred = _check_targets(y_true, y_pred)\n",
            "  File \"/usr/local/lib/python3.8/dist-packages/sklearn/metrics/_classification.py\", line 104, in _check_targets\n",
            "    raise ValueError(\"{0} is not supported\".format(y_type))\n",
            "ValueError: continuous is not supported\n",
            "\n",
            "  warnings.warn(\n",
            "/usr/local/lib/python3.8/dist-packages/sklearn/model_selection/_validation.py:770: UserWarning: Scoring failed. The score on this train-test partition for these parameters will be set to nan. Details: \n",
            "Traceback (most recent call last):\n",
            "  File \"/usr/local/lib/python3.8/dist-packages/sklearn/model_selection/_validation.py\", line 761, in _score\n",
            "    scores = scorer(estimator, X_test, y_test)\n",
            "  File \"/usr/local/lib/python3.8/dist-packages/sklearn/metrics/_scorer.py\", line 216, in __call__\n",
            "    return self._score(\n",
            "  File \"/usr/local/lib/python3.8/dist-packages/sklearn/metrics/_scorer.py\", line 264, in _score\n",
            "    return self._sign * self._score_func(y_true, y_pred, **self._kwargs)\n",
            "  File \"/usr/local/lib/python3.8/dist-packages/sklearn/metrics/_classification.py\", line 211, in accuracy_score\n",
            "    y_type, y_true, y_pred = _check_targets(y_true, y_pred)\n",
            "  File \"/usr/local/lib/python3.8/dist-packages/sklearn/metrics/_classification.py\", line 104, in _check_targets\n",
            "    raise ValueError(\"{0} is not supported\".format(y_type))\n",
            "ValueError: continuous is not supported\n",
            "\n",
            "  warnings.warn(\n",
            "/usr/local/lib/python3.8/dist-packages/sklearn/model_selection/_validation.py:770: UserWarning: Scoring failed. The score on this train-test partition for these parameters will be set to nan. Details: \n",
            "Traceback (most recent call last):\n",
            "  File \"/usr/local/lib/python3.8/dist-packages/sklearn/model_selection/_validation.py\", line 761, in _score\n",
            "    scores = scorer(estimator, X_test, y_test)\n",
            "  File \"/usr/local/lib/python3.8/dist-packages/sklearn/metrics/_scorer.py\", line 216, in __call__\n",
            "    return self._score(\n",
            "  File \"/usr/local/lib/python3.8/dist-packages/sklearn/metrics/_scorer.py\", line 264, in _score\n",
            "    return self._sign * self._score_func(y_true, y_pred, **self._kwargs)\n",
            "  File \"/usr/local/lib/python3.8/dist-packages/sklearn/metrics/_classification.py\", line 211, in accuracy_score\n",
            "    y_type, y_true, y_pred = _check_targets(y_true, y_pred)\n",
            "  File \"/usr/local/lib/python3.8/dist-packages/sklearn/metrics/_classification.py\", line 104, in _check_targets\n",
            "    raise ValueError(\"{0} is not supported\".format(y_type))\n",
            "ValueError: continuous is not supported\n",
            "\n",
            "  warnings.warn(\n",
            "/usr/local/lib/python3.8/dist-packages/sklearn/model_selection/_validation.py:770: UserWarning: Scoring failed. The score on this train-test partition for these parameters will be set to nan. Details: \n",
            "Traceback (most recent call last):\n",
            "  File \"/usr/local/lib/python3.8/dist-packages/sklearn/model_selection/_validation.py\", line 761, in _score\n",
            "    scores = scorer(estimator, X_test, y_test)\n",
            "  File \"/usr/local/lib/python3.8/dist-packages/sklearn/metrics/_scorer.py\", line 216, in __call__\n",
            "    return self._score(\n",
            "  File \"/usr/local/lib/python3.8/dist-packages/sklearn/metrics/_scorer.py\", line 264, in _score\n",
            "    return self._sign * self._score_func(y_true, y_pred, **self._kwargs)\n",
            "  File \"/usr/local/lib/python3.8/dist-packages/sklearn/metrics/_classification.py\", line 211, in accuracy_score\n",
            "    y_type, y_true, y_pred = _check_targets(y_true, y_pred)\n",
            "  File \"/usr/local/lib/python3.8/dist-packages/sklearn/metrics/_classification.py\", line 104, in _check_targets\n",
            "    raise ValueError(\"{0} is not supported\".format(y_type))\n",
            "ValueError: continuous is not supported\n",
            "\n",
            "  warnings.warn(\n",
            "/usr/local/lib/python3.8/dist-packages/sklearn/model_selection/_search.py:969: UserWarning: One or more of the test scores are non-finite: [nan]\n",
            "  warnings.warn(\n"
          ]
        }
      ]
    },
    {
      "cell_type": "code",
      "source": [
        "all_options_dataframe.sort_values('best score', ascending = False)"
      ],
      "metadata": {
        "colab": {
          "base_uri": "https://localhost:8080/",
          "height": 143
        },
        "id": "fTRpxehykVGE",
        "outputId": "bf4c904b-e969-4a87-9f67-d54624462372"
      },
      "execution_count": null,
      "outputs": [
        {
          "output_type": "execute_result",
          "data": {
            "text/plain": [
              "                                   models  \\\n",
              "0                      LinearRegression()   \n",
              "1  (StandardScaler(), LinearRegression())   \n",
              "2    (MinMaxScaler(), LinearRegression())   \n",
              "\n",
              "                                               hyper  \\\n",
              "0                                                 {}   \n",
              "1  {'scaler__with_mean': [True, False], 'scaler__...   \n",
              "2                                                 {}   \n",
              "\n",
              "                                         best params  best score  \n",
              "0                                                 {}         NaN  \n",
              "1  {'lr__n_jobs': -1, 'scaler__with_mean': True, ...         NaN  \n",
              "2                                                 {}         NaN  "
            ],
            "text/html": [
              "\n",
              "  <div id=\"df-c43d6492-5192-4f8b-8dc7-ea787e620e71\">\n",
              "    <div class=\"colab-df-container\">\n",
              "      <div>\n",
              "<style scoped>\n",
              "    .dataframe tbody tr th:only-of-type {\n",
              "        vertical-align: middle;\n",
              "    }\n",
              "\n",
              "    .dataframe tbody tr th {\n",
              "        vertical-align: top;\n",
              "    }\n",
              "\n",
              "    .dataframe thead th {\n",
              "        text-align: right;\n",
              "    }\n",
              "</style>\n",
              "<table border=\"1\" class=\"dataframe\">\n",
              "  <thead>\n",
              "    <tr style=\"text-align: right;\">\n",
              "      <th></th>\n",
              "      <th>models</th>\n",
              "      <th>hyper</th>\n",
              "      <th>best params</th>\n",
              "      <th>best score</th>\n",
              "    </tr>\n",
              "  </thead>\n",
              "  <tbody>\n",
              "    <tr>\n",
              "      <th>0</th>\n",
              "      <td>LinearRegression()</td>\n",
              "      <td>{}</td>\n",
              "      <td>{}</td>\n",
              "      <td>NaN</td>\n",
              "    </tr>\n",
              "    <tr>\n",
              "      <th>1</th>\n",
              "      <td>(StandardScaler(), LinearRegression())</td>\n",
              "      <td>{'scaler__with_mean': [True, False], 'scaler__...</td>\n",
              "      <td>{'lr__n_jobs': -1, 'scaler__with_mean': True, ...</td>\n",
              "      <td>NaN</td>\n",
              "    </tr>\n",
              "    <tr>\n",
              "      <th>2</th>\n",
              "      <td>(MinMaxScaler(), LinearRegression())</td>\n",
              "      <td>{}</td>\n",
              "      <td>{}</td>\n",
              "      <td>NaN</td>\n",
              "    </tr>\n",
              "  </tbody>\n",
              "</table>\n",
              "</div>\n",
              "      <button class=\"colab-df-convert\" onclick=\"convertToInteractive('df-c43d6492-5192-4f8b-8dc7-ea787e620e71')\"\n",
              "              title=\"Convert this dataframe to an interactive table.\"\n",
              "              style=\"display:none;\">\n",
              "        \n",
              "  <svg xmlns=\"http://www.w3.org/2000/svg\" height=\"24px\"viewBox=\"0 0 24 24\"\n",
              "       width=\"24px\">\n",
              "    <path d=\"M0 0h24v24H0V0z\" fill=\"none\"/>\n",
              "    <path d=\"M18.56 5.44l.94 2.06.94-2.06 2.06-.94-2.06-.94-.94-2.06-.94 2.06-2.06.94zm-11 1L8.5 8.5l.94-2.06 2.06-.94-2.06-.94L8.5 2.5l-.94 2.06-2.06.94zm10 10l.94 2.06.94-2.06 2.06-.94-2.06-.94-.94-2.06-.94 2.06-2.06.94z\"/><path d=\"M17.41 7.96l-1.37-1.37c-.4-.4-.92-.59-1.43-.59-.52 0-1.04.2-1.43.59L10.3 9.45l-7.72 7.72c-.78.78-.78 2.05 0 2.83L4 21.41c.39.39.9.59 1.41.59.51 0 1.02-.2 1.41-.59l7.78-7.78 2.81-2.81c.8-.78.8-2.07 0-2.86zM5.41 20L4 18.59l7.72-7.72 1.47 1.35L5.41 20z\"/>\n",
              "  </svg>\n",
              "      </button>\n",
              "      \n",
              "  <style>\n",
              "    .colab-df-container {\n",
              "      display:flex;\n",
              "      flex-wrap:wrap;\n",
              "      gap: 12px;\n",
              "    }\n",
              "\n",
              "    .colab-df-convert {\n",
              "      background-color: #E8F0FE;\n",
              "      border: none;\n",
              "      border-radius: 50%;\n",
              "      cursor: pointer;\n",
              "      display: none;\n",
              "      fill: #1967D2;\n",
              "      height: 32px;\n",
              "      padding: 0 0 0 0;\n",
              "      width: 32px;\n",
              "    }\n",
              "\n",
              "    .colab-df-convert:hover {\n",
              "      background-color: #E2EBFA;\n",
              "      box-shadow: 0px 1px 2px rgba(60, 64, 67, 0.3), 0px 1px 3px 1px rgba(60, 64, 67, 0.15);\n",
              "      fill: #174EA6;\n",
              "    }\n",
              "\n",
              "    [theme=dark] .colab-df-convert {\n",
              "      background-color: #3B4455;\n",
              "      fill: #D2E3FC;\n",
              "    }\n",
              "\n",
              "    [theme=dark] .colab-df-convert:hover {\n",
              "      background-color: #434B5C;\n",
              "      box-shadow: 0px 1px 3px 1px rgba(0, 0, 0, 0.15);\n",
              "      filter: drop-shadow(0px 1px 2px rgba(0, 0, 0, 0.3));\n",
              "      fill: #FFFFFF;\n",
              "    }\n",
              "  </style>\n",
              "\n",
              "      <script>\n",
              "        const buttonEl =\n",
              "          document.querySelector('#df-c43d6492-5192-4f8b-8dc7-ea787e620e71 button.colab-df-convert');\n",
              "        buttonEl.style.display =\n",
              "          google.colab.kernel.accessAllowed ? 'block' : 'none';\n",
              "\n",
              "        async function convertToInteractive(key) {\n",
              "          const element = document.querySelector('#df-c43d6492-5192-4f8b-8dc7-ea787e620e71');\n",
              "          const dataTable =\n",
              "            await google.colab.kernel.invokeFunction('convertToInteractive',\n",
              "                                                     [key], {});\n",
              "          if (!dataTable) return;\n",
              "\n",
              "          const docLinkHtml = 'Like what you see? Visit the ' +\n",
              "            '<a target=\"_blank\" href=https://colab.research.google.com/notebooks/data_table.ipynb>data table notebook</a>'\n",
              "            + ' to learn more about interactive tables.';\n",
              "          element.innerHTML = '';\n",
              "          dataTable['output_type'] = 'display_data';\n",
              "          await google.colab.output.renderOutput(dataTable, element);\n",
              "          const docLink = document.createElement('div');\n",
              "          docLink.innerHTML = docLinkHtml;\n",
              "          element.appendChild(docLink);\n",
              "        }\n",
              "      </script>\n",
              "    </div>\n",
              "  </div>\n",
              "  "
            ]
          },
          "metadata": {},
          "execution_count": 13
        }
      ]
    },
    {
      "cell_type": "markdown",
      "source": [
        "Decision Tree Regressor"
      ],
      "metadata": {
        "id": "g-hAaM8X-9Me"
      }
    },
    {
      "cell_type": "code",
      "source": [
        "test1 = DecisionTreeRegressor().fit(X_train, y_train)\n",
        "print('The train score for the KNeighborRegressor is:', test1.score(X_train, y_train))\n",
        "print('The test score for the KNeighborRegressor is:', test1.score(X_test, y_test))"
      ],
      "metadata": {
        "colab": {
          "base_uri": "https://localhost:8080/"
        },
        "id": "0DRaG04F_Rc3",
        "outputId": "375b8db2-e992-4fa8-e6e1-368c54a94478"
      },
      "execution_count": null,
      "outputs": [
        {
          "output_type": "stream",
          "name": "stdout",
          "text": [
            "The train score for the KNeighborRegressor is: 0.9999669309726759\n",
            "The test score for the KNeighborRegressor is: 0.909102293232629\n"
          ]
        }
      ]
    },
    {
      "cell_type": "code",
      "source": [
        "test1 = DecisionTreeRegressor(criterion='friedman_mse').fit(X_train, y_train)\n",
        "print('The train score for the KNeighborRegressor is:', test1.score(X_train, y_train))\n",
        "print('The test score for the KNeighborRegressor is:', test1.score(X_test, y_test))"
      ],
      "metadata": {
        "colab": {
          "base_uri": "https://localhost:8080/"
        },
        "id": "HJ3CPoQI-oKR",
        "outputId": "f0cfc318-7f5b-4da9-be9a-7b2684169816"
      },
      "execution_count": null,
      "outputs": [
        {
          "output_type": "stream",
          "name": "stdout",
          "text": [
            "The train score for the KNeighborRegressor is: 0.9999669309726759\n",
            "The test score for the KNeighborRegressor is: 0.9089998935367204\n"
          ]
        }
      ]
    },
    {
      "cell_type": "code",
      "source": [
        "test1 = DecisionTreeRegressor(criterion='squared_error').fit(X_train, y_train)\n",
        "print('The train score for the KNeighborRegressor is:', test1.score(X_train, y_train))\n",
        "print('The test score for the KNeighborRegressor is:', test1.score(X_test, y_test))"
      ],
      "metadata": {
        "colab": {
          "base_uri": "https://localhost:8080/"
        },
        "id": "ticcPqdk-vE3",
        "outputId": "cf5725cc-7018-4b07-86ad-84b400fffc89"
      },
      "execution_count": null,
      "outputs": [
        {
          "output_type": "stream",
          "name": "stdout",
          "text": [
            "The train score for the KNeighborRegressor is: 0.9999669309726759\n",
            "The test score for the KNeighborRegressor is: 0.9091331076923765\n"
          ]
        }
      ]
    },
    {
      "cell_type": "markdown",
      "source": [
        "Linear Regression"
      ],
      "metadata": {
        "id": "zQt4c4G5-ljH"
      }
    },
    {
      "cell_type": "code",
      "source": [
        "test1 = LinearRegression().fit(X_train, y_train)\n",
        "print('The train score for the KNeighborRegressor is:', test1.score(X_train, y_train))\n",
        "print('The test score for the KNeighborRegressor is:', test1.score(X_test, y_test))"
      ],
      "metadata": {
        "colab": {
          "base_uri": "https://localhost:8080/"
        },
        "id": "dL-q1YeG652h",
        "outputId": "517a71e3-1920-476a-ff29-72729326a881"
      },
      "execution_count": null,
      "outputs": [
        {
          "output_type": "stream",
          "name": "stdout",
          "text": [
            "The train score for the KNeighborRegressor is: 0.0516185992178998\n",
            "The test score for the KNeighborRegressor is: 0.05305526574998909\n"
          ]
        }
      ]
    },
    {
      "cell_type": "code",
      "source": [
        "test1 = LinearRegression().fit(X_train_std_min_max, y_train)\n",
        "print('The train score for the KNeighborRegressor is:', test1.score(X_train_std_min_max, y_train))\n",
        "print('The test score for the KNeighborRegressor is:', test1.score(X_test_std_min_max, y_test))"
      ],
      "metadata": {
        "colab": {
          "base_uri": "https://localhost:8080/"
        },
        "id": "uvbt8ur19KWj",
        "outputId": "30b49214-b811-408b-b719-64dba68f936c"
      },
      "execution_count": null,
      "outputs": [
        {
          "output_type": "stream",
          "name": "stdout",
          "text": [
            "The train score for the KNeighborRegressor is: 0.05161861801858614\n",
            "The test score for the KNeighborRegressor is: 0.053055525233389966\n"
          ]
        }
      ]
    },
    {
      "cell_type": "code",
      "source": [
        "test1 = LinearRegression().fit(X_train_std, y_train) \n",
        "print('The train score for the KNeighborRegressor is:', test1.score(X_train_std, y_train))\n",
        "print('The test score for the KNeighborRegressor is:', test1.score(X_test_std, y_test))"
      ],
      "metadata": {
        "colab": {
          "base_uri": "https://localhost:8080/"
        },
        "id": "13vVCMBb9MQn",
        "outputId": "afbb352d-aac5-4fa7-9b05-4422e34b4133"
      },
      "execution_count": null,
      "outputs": [
        {
          "output_type": "stream",
          "name": "stdout",
          "text": [
            "The train score for the KNeighborRegressor is: 0.04856936147816937\n",
            "The test score for the KNeighborRegressor is: 0.04995819173109228\n"
          ]
        }
      ]
    },
    {
      "cell_type": "markdown",
      "source": [
        "Ridge Regression"
      ],
      "metadata": {
        "id": "YNNXhgLe69Ik"
      }
    },
    {
      "cell_type": "code",
      "source": [
        "test1 = Ridge(alpha=0.1).fit(X_train, y_train)\n",
        "print('The train score for the KNeighborRegressor is:', test1.score(X_train, y_train))\n",
        "print('The test score for the KNeighborRegressor is:', test1.score(X_test, y_test))"
      ],
      "metadata": {
        "colab": {
          "base_uri": "https://localhost:8080/"
        },
        "id": "FnQ8EOGR0hBF",
        "outputId": "4ad13c9c-174f-428c-9274-5769f2b66132"
      },
      "execution_count": null,
      "outputs": [
        {
          "output_type": "stream",
          "name": "stderr",
          "text": [
            "/usr/local/lib/python3.8/dist-packages/sklearn/linear_model/_ridge.py:157: LinAlgWarning: Ill-conditioned matrix (rcond=1.27248e-22): result may not be accurate.\n",
            "  return linalg.solve(A, Xy, sym_pos=True, overwrite_a=True).T\n"
          ]
        },
        {
          "output_type": "stream",
          "name": "stdout",
          "text": [
            "The train score for the KNeighborRegressor is: 0.05161859921602552\n",
            "The test score for the KNeighborRegressor is: 0.05305526375525926\n"
          ]
        }
      ]
    },
    {
      "cell_type": "code",
      "source": [
        "test1 = Ridge(alpha=0.2).fit(X_train, y_train)\n",
        "print('The train score for the KNeighborRegressor is:', test1.score(X_train, y_train))\n",
        "print('The test score for the KNeighborRegressor is:', test1.score(X_test, y_test))"
      ],
      "metadata": {
        "colab": {
          "base_uri": "https://localhost:8080/"
        },
        "id": "PGExwFXJ3nqv",
        "outputId": "31a0d600-5b2d-49ab-931f-2b908e640395"
      },
      "execution_count": null,
      "outputs": [
        {
          "output_type": "stream",
          "name": "stderr",
          "text": [
            "/usr/local/lib/python3.8/dist-packages/sklearn/linear_model/_ridge.py:157: LinAlgWarning: Ill-conditioned matrix (rcond=2.54496e-22): result may not be accurate.\n",
            "  return linalg.solve(A, Xy, sym_pos=True, overwrite_a=True).T\n"
          ]
        },
        {
          "output_type": "stream",
          "name": "stdout",
          "text": [
            "The train score for the KNeighborRegressor is: 0.051618599210405014\n",
            "The test score for the KNeighborRegressor is: 0.05305526173467934\n"
          ]
        }
      ]
    },
    {
      "cell_type": "code",
      "source": [
        "test1 = Ridge(alpha=0.3).fit(X_train, y_train)\n",
        "print('The train score for the KNeighborRegressor is:', test1.score(X_train, y_train))\n",
        "print('The test score for the KNeighborRegressor is:', test1.score(X_test, y_test))"
      ],
      "metadata": {
        "colab": {
          "base_uri": "https://localhost:8080/"
        },
        "id": "GkXD1_Hm3rRf",
        "outputId": "f409f221-720d-4873-b501-8908fb548496"
      },
      "execution_count": null,
      "outputs": [
        {
          "output_type": "stream",
          "name": "stderr",
          "text": [
            "/usr/local/lib/python3.8/dist-packages/sklearn/linear_model/_ridge.py:157: LinAlgWarning: Ill-conditioned matrix (rcond=3.81745e-22): result may not be accurate.\n",
            "  return linalg.solve(A, Xy, sym_pos=True, overwrite_a=True).T\n"
          ]
        },
        {
          "output_type": "stream",
          "name": "stdout",
          "text": [
            "The train score for the KNeighborRegressor is: 0.051618599201038284\n",
            "The test score for the KNeighborRegressor is: 0.053055259710205194\n"
          ]
        }
      ]
    },
    {
      "cell_type": "code",
      "source": [
        "test1 = Ridge(alpha=0.4).fit(X_train, y_train)\n",
        "print('The train score for the KNeighborRegressor is:', test1.score(X_train, y_train))\n",
        "print('The test score for the KNeighborRegressor is:', test1.score(X_test, y_test))"
      ],
      "metadata": {
        "colab": {
          "base_uri": "https://localhost:8080/"
        },
        "id": "HM9zMgHX3rou",
        "outputId": "84dcafb3-fbba-4847-8bdf-2e8bb8d37293"
      },
      "execution_count": null,
      "outputs": [
        {
          "output_type": "stream",
          "name": "stderr",
          "text": [
            "/usr/local/lib/python3.8/dist-packages/sklearn/linear_model/_ridge.py:157: LinAlgWarning: Ill-conditioned matrix (rcond=5.08993e-22): result may not be accurate.\n",
            "  return linalg.solve(A, Xy, sym_pos=True, overwrite_a=True).T\n"
          ]
        },
        {
          "output_type": "stream",
          "name": "stdout",
          "text": [
            "The train score for the KNeighborRegressor is: 0.05161859918792633\n",
            "The test score for the KNeighborRegressor is: 0.05305525768183694\n"
          ]
        }
      ]
    },
    {
      "cell_type": "code",
      "source": [
        "test1 = Ridge(alpha=0.5).fit(X_train, y_train)\n",
        "print('The train score for the KNeighborRegressor is:', test1.score(X_train, y_train))\n",
        "print('The test score for the KNeighborRegressor is:', test1.score(X_test, y_test))"
      ],
      "metadata": {
        "colab": {
          "base_uri": "https://localhost:8080/"
        },
        "id": "LIX7yU5q3sAX",
        "outputId": "ce595ecb-f35b-49ef-8f99-a6d887697497"
      },
      "execution_count": null,
      "outputs": [
        {
          "output_type": "stream",
          "name": "stderr",
          "text": [
            "/usr/local/lib/python3.8/dist-packages/sklearn/linear_model/_ridge.py:157: LinAlgWarning: Ill-conditioned matrix (rcond=6.36241e-22): result may not be accurate.\n",
            "  return linalg.solve(A, Xy, sym_pos=True, overwrite_a=True).T\n"
          ]
        },
        {
          "output_type": "stream",
          "name": "stdout",
          "text": [
            "The train score for the KNeighborRegressor is: 0.0516185991710687\n",
            "The test score for the KNeighborRegressor is: 0.05305525564957603\n"
          ]
        }
      ]
    },
    {
      "cell_type": "code",
      "source": [
        "test1 = Ridge(alpha=0.6).fit(X_train, y_train)\n",
        "print('The train score for the KNeighborRegressor is:', test1.score(X_train, y_train))\n",
        "print('The test score for the KNeighborRegressor is:', test1.score(X_test, y_test))"
      ],
      "metadata": {
        "colab": {
          "base_uri": "https://localhost:8080/"
        },
        "id": "uRZyTY7x3skO",
        "outputId": "05fe874a-29a9-473f-fc74-e59b2746c46b"
      },
      "execution_count": null,
      "outputs": [
        {
          "output_type": "stream",
          "name": "stderr",
          "text": [
            "/usr/local/lib/python3.8/dist-packages/sklearn/linear_model/_ridge.py:157: LinAlgWarning: Ill-conditioned matrix (rcond=7.63489e-22): result may not be accurate.\n",
            "  return linalg.solve(A, Xy, sym_pos=True, overwrite_a=True).T\n"
          ]
        },
        {
          "output_type": "stream",
          "name": "stdout",
          "text": [
            "The train score for the KNeighborRegressor is: 0.05161859915046596\n",
            "The test score for the KNeighborRegressor is: 0.05305525361342245\n"
          ]
        }
      ]
    },
    {
      "cell_type": "code",
      "source": [
        "test1 = Ridge(alpha=0.7).fit(X_train, y_train)\n",
        "print('The train score for the KNeighborRegressor is:', test1.score(X_train, y_train))\n",
        "print('The test score for the KNeighborRegressor is:', test1.score(X_test, y_test))"
      ],
      "metadata": {
        "colab": {
          "base_uri": "https://localhost:8080/"
        },
        "id": "tpggS0f-3tEP",
        "outputId": "bba56cf9-1e5b-40b1-b951-15a4a94438ec"
      },
      "execution_count": null,
      "outputs": [
        {
          "output_type": "stream",
          "name": "stderr",
          "text": [
            "/usr/local/lib/python3.8/dist-packages/sklearn/linear_model/_ridge.py:157: LinAlgWarning: Ill-conditioned matrix (rcond=8.90737e-22): result may not be accurate.\n",
            "  return linalg.solve(A, Xy, sym_pos=True, overwrite_a=True).T\n"
          ]
        },
        {
          "output_type": "stream",
          "name": "stdout",
          "text": [
            "The train score for the KNeighborRegressor is: 0.05161859912611899\n",
            "The test score for the KNeighborRegressor is: 0.05305525157337643\n"
          ]
        }
      ]
    },
    {
      "cell_type": "code",
      "source": [
        "test1 = Ridge(alpha=0.8).fit(X_train, y_train)\n",
        "print('The train score for the KNeighborRegressor is:', test1.score(X_train, y_train))\n",
        "print('The test score for the KNeighborRegressor is:', test1.score(X_test, y_test))"
      ],
      "metadata": {
        "colab": {
          "base_uri": "https://localhost:8080/"
        },
        "id": "UxzA0i4m3xC3",
        "outputId": "d3bb8cb1-b9f8-4add-b01b-812c08971f50"
      },
      "execution_count": null,
      "outputs": [
        {
          "output_type": "stream",
          "name": "stderr",
          "text": [
            "/usr/local/lib/python3.8/dist-packages/sklearn/linear_model/_ridge.py:157: LinAlgWarning: Ill-conditioned matrix (rcond=1.01798e-21): result may not be accurate.\n",
            "  return linalg.solve(A, Xy, sym_pos=True, overwrite_a=True).T\n"
          ]
        },
        {
          "output_type": "stream",
          "name": "stdout",
          "text": [
            "The train score for the KNeighborRegressor is: 0.051618599098028795\n",
            "The test score for the KNeighborRegressor is: 0.05305524952943941\n"
          ]
        }
      ]
    },
    {
      "cell_type": "code",
      "source": [
        "test1 = Ridge(alpha=0.9).fit(X_train, y_train)\n",
        "print('The train score for the KNeighborRegressor is:', test1.score(X_train, y_train))\n",
        "print('The test score for the KNeighborRegressor is:', test1.score(X_test, y_test))"
      ],
      "metadata": {
        "colab": {
          "base_uri": "https://localhost:8080/"
        },
        "id": "wUT0KB-F3yc2",
        "outputId": "cb1b188c-8551-4aab-c309-50ee8933c51c"
      },
      "execution_count": null,
      "outputs": [
        {
          "output_type": "stream",
          "name": "stderr",
          "text": [
            "/usr/local/lib/python3.8/dist-packages/sklearn/linear_model/_ridge.py:157: LinAlgWarning: Ill-conditioned matrix (rcond=1.14523e-21): result may not be accurate.\n",
            "  return linalg.solve(A, Xy, sym_pos=True, overwrite_a=True).T\n"
          ]
        },
        {
          "output_type": "stream",
          "name": "stdout",
          "text": [
            "The train score for the KNeighborRegressor is: 0.051618599066193926\n",
            "The test score for the KNeighborRegressor is: 0.053055247481610834\n"
          ]
        }
      ]
    },
    {
      "cell_type": "code",
      "source": [
        "test1 = Ridge(alpha=1).fit(X_train, y_train)\n",
        "print('The train score for the KNeighborRegressor is:', test1.score(X_train, y_train))\n",
        "print('The test score for the KNeighborRegressor is:', test1.score(X_test, y_test))"
      ],
      "metadata": {
        "colab": {
          "base_uri": "https://localhost:8080/"
        },
        "id": "3ZvEWJ_O3z73",
        "outputId": "930066b9-41ba-4ffa-fb53-a144a8851d5c"
      },
      "execution_count": null,
      "outputs": [
        {
          "output_type": "stream",
          "name": "stderr",
          "text": [
            "/usr/local/lib/python3.8/dist-packages/sklearn/linear_model/_ridge.py:157: LinAlgWarning: Ill-conditioned matrix (rcond=1.27248e-21): result may not be accurate.\n",
            "  return linalg.solve(A, Xy, sym_pos=True, overwrite_a=True).T\n"
          ]
        },
        {
          "output_type": "stream",
          "name": "stdout",
          "text": [
            "The train score for the KNeighborRegressor is: 0.05161859903061683\n",
            "The test score for the KNeighborRegressor is: 0.05305524542989204\n"
          ]
        }
      ]
    },
    {
      "cell_type": "markdown",
      "source": [
        "With Standardization"
      ],
      "metadata": {
        "id": "MREj3aPK71Li"
      }
    },
    {
      "cell_type": "code",
      "source": [
        "test1 = Ridge(alpha=0.1).fit(X_train_std_min_max, y_train)\n",
        "print('The train score for the KNeighborRegressor is:', test1.score(X_train_std_min_max, y_train))\n",
        "print('The test score for the KNeighborRegressor is:', test1.score(X_test_std_min_max, y_test))"
      ],
      "metadata": {
        "colab": {
          "base_uri": "https://localhost:8080/"
        },
        "id": "2jpgE6K05wxt",
        "outputId": "67964ec2-602f-4d10-d58f-9520a2b33afd"
      },
      "execution_count": null,
      "outputs": [
        {
          "output_type": "stream",
          "name": "stdout",
          "text": [
            "The train score for the KNeighborRegressor is: 0.05161857220177102\n",
            "The test score for the KNeighborRegressor is: 0.05305482118136551\n"
          ]
        }
      ]
    },
    {
      "cell_type": "code",
      "source": [
        "test1 = Ridge(alpha=0.2).fit(X_train_std_min_max, y_train)\n",
        "print('The train score for the KNeighborRegressor is:', test1.score(X_train_std_min_max, y_train))\n",
        "print('The test score for the KNeighborRegressor is:', test1.score(X_test_std_min_max, y_test))"
      ],
      "metadata": {
        "colab": {
          "base_uri": "https://localhost:8080/"
        },
        "id": "xgwcKGUj57WB",
        "outputId": "e8e59ef3-9164-43a5-eab8-3901711b2476"
      },
      "execution_count": null,
      "outputs": [
        {
          "output_type": "stream",
          "name": "stdout",
          "text": [
            "The train score for the KNeighborRegressor is: 0.05161849300401611\n",
            "The test score for the KNeighborRegressor is: 0.053054371892024665\n"
          ]
        }
      ]
    },
    {
      "cell_type": "code",
      "source": [
        "test1 = Ridge(alpha=0.3).fit(X_train_std_min_max, y_train)\n",
        "print('The train score for the KNeighborRegressor is:', test1.score(X_train_std_min_max, y_train))\n",
        "print('The test score for the KNeighborRegressor is:', test1.score(X_test_std_min_max, y_test))"
      ],
      "metadata": {
        "colab": {
          "base_uri": "https://localhost:8080/"
        },
        "id": "xuBgBOx95711",
        "outputId": "e488839d-5af1-4d68-bb06-b46ef396467f"
      },
      "execution_count": null,
      "outputs": [
        {
          "output_type": "stream",
          "name": "stdout",
          "text": [
            "The train score for the KNeighborRegressor is: 0.05161836424362387\n",
            "The test score for the KNeighborRegressor is: 0.053053916087423825\n"
          ]
        }
      ]
    },
    {
      "cell_type": "code",
      "source": [
        "test1 = Ridge(alpha=0.4).fit(X_train_std_min_max, y_train)\n",
        "print('The train score for the KNeighborRegressor is:', test1.score(X_train_std_min_max, y_train))\n",
        "print('The test score for the KNeighborRegressor is:', test1.score(X_test_std_min_max, y_test))"
      ],
      "metadata": {
        "colab": {
          "base_uri": "https://localhost:8080/"
        },
        "id": "kho3U0iH58RB",
        "outputId": "afc09e79-a88d-472c-cfa0-8e5ce8c6f728"
      },
      "execution_count": null,
      "outputs": [
        {
          "output_type": "stream",
          "name": "stdout",
          "text": [
            "The train score for the KNeighborRegressor is: 0.05161818835104659\n",
            "The test score for the KNeighborRegressor is: 0.05305345222134161\n"
          ]
        }
      ]
    },
    {
      "cell_type": "code",
      "source": [
        "test1 = Ridge(alpha=0.5).fit(X_train_std_min_max, y_train)\n",
        "print('The train score for the KNeighborRegressor is:', test1.score(X_train_std_min_max, y_train))\n",
        "print('The test score for the KNeighborRegressor is:', test1.score(X_test_std_min_max, y_test))"
      ],
      "metadata": {
        "colab": {
          "base_uri": "https://localhost:8080/"
        },
        "id": "b0APf9H258vM",
        "outputId": "0358b7b6-305e-45c2-94b3-82342e8e03da"
      },
      "execution_count": null,
      "outputs": [
        {
          "output_type": "stream",
          "name": "stdout",
          "text": [
            "The train score for the KNeighborRegressor is: 0.05161796759050019\n",
            "The test score for the KNeighborRegressor is: 0.05305297898526595\n"
          ]
        }
      ]
    },
    {
      "cell_type": "code",
      "source": [
        "test1 = Ridge(alpha=0.6).fit(X_train_std_min_max, y_train)\n",
        "print('The train score for the KNeighborRegressor is:', test1.score(X_train_std_min_max, y_train))\n",
        "print('The test score for the KNeighborRegressor is:', test1.score(X_test_std_min_max, y_test))"
      ],
      "metadata": {
        "colab": {
          "base_uri": "https://localhost:8080/"
        },
        "id": "zpgcg_w659HG",
        "outputId": "b538857f-6411-487d-b42c-fea20be7d9a9"
      },
      "execution_count": null,
      "outputs": [
        {
          "output_type": "stream",
          "name": "stdout",
          "text": [
            "The train score for the KNeighborRegressor is: 0.051617704078627535\n",
            "The test score for the KNeighborRegressor is: 0.053052495279726775\n"
          ]
        }
      ]
    },
    {
      "cell_type": "code",
      "source": [
        "test1 = Ridge(alpha=0.7).fit(X_train_std_min_max, y_train)\n",
        "print('The train score for the KNeighborRegressor is:', test1.score(X_train_std_min_max, y_train))\n",
        "print('The test score for the KNeighborRegressor is:', test1.score(X_test_std_min_max, y_test))"
      ],
      "metadata": {
        "colab": {
          "base_uri": "https://localhost:8080/"
        },
        "id": "MTZ6ViME59nV",
        "outputId": "03a974c5-41b2-41ee-bcc8-d5dac7f8a17d"
      },
      "execution_count": null,
      "outputs": [
        {
          "output_type": "stream",
          "name": "stdout",
          "text": [
            "The train score for the KNeighborRegressor is: 0.0516173998002325\n",
            "The test score for the KNeighborRegressor is: 0.053052000189057424\n"
          ]
        }
      ]
    },
    {
      "cell_type": "code",
      "source": [
        "test1 = Ridge(alpha=0.8).fit(X_train_std_min_max, y_train)\n",
        "print('The train score for the KNeighborRegressor is:', test1.score(X_train_std_min_max, y_train))\n",
        "print('The test score for the KNeighborRegressor is:', test1.score(X_test_std_min_max, y_test))"
      ],
      "metadata": {
        "colab": {
          "base_uri": "https://localhost:8080/"
        },
        "id": "e1w6rmWi5-Nx",
        "outputId": "609d2991-20f2-4354-f5b0-1699d9934e13"
      },
      "execution_count": null,
      "outputs": [
        {
          "output_type": "stream",
          "name": "stdout",
          "text": [
            "The train score for the KNeighborRegressor is: 0.05161705662163785\n",
            "The test score for the KNeighborRegressor is: 0.05305149295917733\n"
          ]
        }
      ]
    },
    {
      "cell_type": "code",
      "source": [
        "test1 = Ridge(alpha=0.9).fit(X_train_std_min_max, y_train)\n",
        "print('The train score for the KNeighborRegressor is:', test1.score(X_train_std_min_max, y_train))\n",
        "print('The test score for the KNeighborRegressor is:', test1.score(X_test_std_min_max, y_test))"
      ],
      "metadata": {
        "colab": {
          "base_uri": "https://localhost:8080/"
        },
        "id": "MGLLQD4D5-qB",
        "outputId": "0d4ff97a-4652-406b-c9ad-646ef60bfb64"
      },
      "execution_count": null,
      "outputs": [
        {
          "output_type": "stream",
          "name": "stdout",
          "text": [
            "The train score for the KNeighborRegressor is: 0.05161667630209166\n",
            "The test score for the KNeighborRegressor is: 0.05305097297801897\n"
          ]
        }
      ]
    },
    {
      "cell_type": "code",
      "source": [
        "test1 = Ridge(alpha=1).fit(X_train_std_min_max, y_train)\n",
        "print('The train score for the KNeighborRegressor is:', test1.score(X_train_std_min_max, y_train))\n",
        "print('The test score for the KNeighborRegressor is:', test1.score(X_test_std_min_max, y_test))"
      ],
      "metadata": {
        "colab": {
          "base_uri": "https://localhost:8080/"
        },
        "id": "-frsHUKK5_DV",
        "outputId": "b9982194-e759-49e8-9c90-3caab8809619"
      },
      "execution_count": null,
      "outputs": [
        {
          "output_type": "stream",
          "name": "stdout",
          "text": [
            "The train score for the KNeighborRegressor is: 0.05161626050357604\n",
            "The test score for the KNeighborRegressor is: 0.053050439758279055\n"
          ]
        }
      ]
    },
    {
      "cell_type": "code",
      "source": [],
      "metadata": {
        "id": "rZhi-0Zm51DR"
      },
      "execution_count": null,
      "outputs": []
    },
    {
      "cell_type": "code",
      "source": [
        "test1 = Ridge(alpha=0.1).fit(X_train_std, y_train)\n",
        "print('The train score for the KNeighborRegressor is:', test1.score(X_train_std, y_train))\n",
        "print('The test score for the KNeighborRegressor is:', test1.score(X_test_std, y_test))"
      ],
      "metadata": {
        "colab": {
          "base_uri": "https://localhost:8080/"
        },
        "id": "Xnwrj72N51RN",
        "outputId": "3b1afb08-609b-4ee4-b74b-6e3c6ee41a57"
      },
      "execution_count": null,
      "outputs": [
        {
          "output_type": "stream",
          "name": "stdout",
          "text": [
            "The train score for the KNeighborRegressor is: 0.05161859921789935\n",
            "The test score for the KNeighborRegressor is: 0.053055265671614005\n"
          ]
        }
      ]
    },
    {
      "cell_type": "code",
      "source": [
        "test1 = Ridge(alpha=0.2).fit(X_train_std, y_train)\n",
        "print('The train score for the KNeighborRegressor is:', test1.score(X_train_std, y_train))\n",
        "print('The test score for the KNeighborRegressor is:', test1.score(X_test_std, y_test))"
      ],
      "metadata": {
        "colab": {
          "base_uri": "https://localhost:8080/"
        },
        "id": "LIFuBFPk6PJN",
        "outputId": "9a55b4ff-90d4-45c9-9a0c-fbf7df4af1d2"
      },
      "execution_count": null,
      "outputs": [
        {
          "output_type": "stream",
          "name": "stdout",
          "text": [
            "The train score for the KNeighborRegressor is: 0.05161859921789824\n",
            "The test score for the KNeighborRegressor is: 0.05305526557128326\n"
          ]
        }
      ]
    },
    {
      "cell_type": "code",
      "source": [
        "test1 = Ridge(alpha=0.3).fit(X_train_std, y_train)\n",
        "print('The train score for the KNeighborRegressor is:', test1.score(X_train_std, y_train))\n",
        "print('The test score for the KNeighborRegressor is:', test1.score(X_test_std, y_test))"
      ],
      "metadata": {
        "colab": {
          "base_uri": "https://localhost:8080/"
        },
        "id": "xxdxMXnC6Pi1",
        "outputId": "3a83c10e-387c-478b-f48c-b2a0e9582a88"
      },
      "execution_count": null,
      "outputs": [
        {
          "output_type": "stream",
          "name": "stdout",
          "text": [
            "The train score for the KNeighborRegressor is: 0.05161859921789791\n",
            "The test score for the KNeighborRegressor is: 0.05305526547095196\n"
          ]
        }
      ]
    },
    {
      "cell_type": "code",
      "source": [
        "test1 = Ridge(alpha=0.4).fit(X_train_std, y_train)\n",
        "print('The train score for the KNeighborRegressor is:', test1.score(X_train_std, y_train))\n",
        "print('The test score for the KNeighborRegressor is:', test1.score(X_test_std, y_test))"
      ],
      "metadata": {
        "colab": {
          "base_uri": "https://localhost:8080/"
        },
        "id": "umu-g1pF6P8p",
        "outputId": "dcf333e9-e59a-48ae-a527-d887dff45ebc"
      },
      "execution_count": null,
      "outputs": [
        {
          "output_type": "stream",
          "name": "stdout",
          "text": [
            "The train score for the KNeighborRegressor is: 0.05161859921789691\n",
            "The test score for the KNeighborRegressor is: 0.05305526537062\n"
          ]
        }
      ]
    },
    {
      "cell_type": "code",
      "source": [
        "test1 = Ridge(alpha=0.5).fit(X_train_std, y_train)\n",
        "print('The train score for the KNeighborRegressor is:', test1.score(X_train_std, y_train))\n",
        "print('The test score for the KNeighborRegressor is:', test1.score(X_test_std, y_test))"
      ],
      "metadata": {
        "colab": {
          "base_uri": "https://localhost:8080/"
        },
        "id": "FFqjYPhK6Qcc",
        "outputId": "11271463-374b-4fa6-b5db-1339bc879375"
      },
      "execution_count": null,
      "outputs": [
        {
          "output_type": "stream",
          "name": "stdout",
          "text": [
            "The train score for the KNeighborRegressor is: 0.05161859921789491\n",
            "The test score for the KNeighborRegressor is: 0.05305526527028803\n"
          ]
        }
      ]
    },
    {
      "cell_type": "code",
      "source": [
        "test1 = Ridge(alpha=0.6).fit(X_train_std, y_train)\n",
        "print('The train score for the KNeighborRegressor is:', test1.score(X_train_std, y_train))\n",
        "print('The test score for the KNeighborRegressor is:', test1.score(X_test_std, y_test))"
      ],
      "metadata": {
        "colab": {
          "base_uri": "https://localhost:8080/"
        },
        "id": "HrYmQESo6Q1F",
        "outputId": "6600632e-07fa-427d-a569-50e8ea30314f"
      },
      "execution_count": null,
      "outputs": [
        {
          "output_type": "stream",
          "name": "stdout",
          "text": [
            "The train score for the KNeighborRegressor is: 0.051618599217893024\n",
            "The test score for the KNeighborRegressor is: 0.053055265169955845\n"
          ]
        }
      ]
    },
    {
      "cell_type": "code",
      "source": [
        "test1 = Ridge(alpha=0.7).fit(X_train_std, y_train)\n",
        "print('The train score for the KNeighborRegressor is:', test1.score(X_train_std, y_train))\n",
        "print('The test score for the KNeighborRegressor is:', test1.score(X_test_std, y_test))"
      ],
      "metadata": {
        "colab": {
          "base_uri": "https://localhost:8080/"
        },
        "id": "hBe7W_0d6Rv5",
        "outputId": "c86bd9aa-0810-489b-c621-ee235f357362"
      },
      "execution_count": null,
      "outputs": [
        {
          "output_type": "stream",
          "name": "stdout",
          "text": [
            "The train score for the KNeighborRegressor is: 0.05161859921789114\n",
            "The test score for the KNeighborRegressor is: 0.053055265069623214\n"
          ]
        }
      ]
    },
    {
      "cell_type": "code",
      "source": [
        "test1 = Ridge(alpha=0.8).fit(X_train_std, y_train)\n",
        "print('The train score for the KNeighborRegressor is:', test1.score(X_train_std, y_train))\n",
        "print('The test score for the KNeighborRegressor is:', test1.score(X_test_std, y_test))"
      ],
      "metadata": {
        "colab": {
          "base_uri": "https://localhost:8080/"
        },
        "id": "M6KdNfTG6Shs",
        "outputId": "e5c0162e-eb71-49fb-b1af-ae807e0bd33f"
      },
      "execution_count": null,
      "outputs": [
        {
          "output_type": "stream",
          "name": "stdout",
          "text": [
            "The train score for the KNeighborRegressor is: 0.05161859921788836\n",
            "The test score for the KNeighborRegressor is: 0.05305526496929014\n"
          ]
        }
      ]
    },
    {
      "cell_type": "code",
      "source": [
        "test1 = Ridge(alpha=0.9).fit(X_train_std, y_train)\n",
        "print('The train score for the KNeighborRegressor is:', test1.score(X_train_std, y_train))\n",
        "print('The test score for the KNeighborRegressor is:', test1.score(X_test_std, y_test))"
      ],
      "metadata": {
        "colab": {
          "base_uri": "https://localhost:8080/"
        },
        "id": "_6KQ3EbY6S8c",
        "outputId": "e2662f0e-97fe-4486-d2ae-0fefc8ff956b"
      },
      "execution_count": null,
      "outputs": [
        {
          "output_type": "stream",
          "name": "stdout",
          "text": [
            "The train score for the KNeighborRegressor is: 0.051618599217885475\n",
            "The test score for the KNeighborRegressor is: 0.05305526486895684\n"
          ]
        }
      ]
    },
    {
      "cell_type": "code",
      "source": [
        "test1 = Ridge(alpha=1).fit(X_train_std, y_train)\n",
        "print('The train score for the KNeighborRegressor is:', test1.score(X_train_std, y_train))\n",
        "print('The test score for the KNeighborRegressor is:', test1.score(X_test_std, y_test))"
      ],
      "metadata": {
        "colab": {
          "base_uri": "https://localhost:8080/"
        },
        "id": "oGjuZYKw6Tm4",
        "outputId": "2255a9ab-b3b0-4a59-c1d8-b55d22f1f6e4"
      },
      "execution_count": null,
      "outputs": [
        {
          "output_type": "stream",
          "name": "stdout",
          "text": [
            "The train score for the KNeighborRegressor is: 0.05161859921788181\n",
            "The test score for the KNeighborRegressor is: 0.05305526476862299\n"
          ]
        }
      ]
    },
    {
      "cell_type": "code",
      "source": [
        "from sklearn.ensemble import VotingRegressor\n",
        "# from mlxtend.regressor import StackingCVRegressor\n",
        "from mlxtend.regressor import StackingRegressor\n",
        "from sklearn.ensemble import GradientBoostingRegressor"
      ],
      "metadata": {
        "id": "h3APn6MjFEgR"
      },
      "execution_count": null,
      "outputs": []
    },
    {
      "cell_type": "code",
      "source": [
        "reg1 = DecisionTreeRegressor()\n",
        "reg2 = KNeighborsRegressor()\n",
        "meta_model = GradientBoostingRegressor()\n",
        "\n",
        "# Create voting regressor\n",
        "reg_stack = StackingRegressor(regressors=[reg1, reg2], meta_regressor=meta_model, use_features_in_secondary=False)\n",
        "\n",
        "# Fit and predict with the models and ensemble\n",
        "# algorithms_list = [reg1, reg2, reg3, voting_ens]\n",
        "# algorithms_list = list(voting_ens)\n",
        "# def voting_regressor_func(algorithm):\n",
        "  # print(algorithm.__class__.__name__)\n",
        "reg_stack.fit(X_train, y_train)\n",
        "print(\"Training score\", reg_stack.score(X_train, y_train))\n",
        "print(\"Test score\", reg_stack.score(X_test, y_test))\n",
        "\n",
        "y_pred = reg_stack.predict(X_test)\n",
        "print('StackingRegressor:')\n",
        "print('The mean squared error for the StackingRegressor is:', mean_squared_error(y_test, y_pred))"
      ],
      "metadata": {
        "id": "p_-GsKXCFFIH"
      },
      "execution_count": null,
      "outputs": []
    }
  ]
}