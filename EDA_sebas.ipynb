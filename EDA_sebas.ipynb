{
  "nbformat": 4,
  "nbformat_minor": 0,
  "metadata": {
    "colab": {
      "provenance": [],
      "include_colab_link": true
    },
    "kernelspec": {
      "name": "python3",
      "display_name": "Python 3"
    },
    "language_info": {
      "name": "python"
    }
  },
  "cells": [
    {
      "cell_type": "markdown",
      "metadata": {
        "id": "view-in-github",
        "colab_type": "text"
      },
      "source": [
        "<a href=\"https://colab.research.google.com/github/FCam4/Proj_6_Deep_Learning/blob/main/EDA_sebas.ipynb\" target=\"_parent\"><img src=\"https://colab.research.google.com/assets/colab-badge.svg\" alt=\"Open In Colab\"/></a>"
      ]
    },
    {
      "cell_type": "code",
      "source": [
        "# import sys\n",
        "# !{sys.executable} -m pip install -U pandas-profiling[notebook]"
      ],
      "metadata": {
        "id": "pPZ5wvYnI0kK"
      },
      "execution_count": null,
      "outputs": []
    },
    {
      "cell_type": "code",
      "execution_count": null,
      "metadata": {
        "id": "1Nxp62YLvkXF"
      },
      "outputs": [],
      "source": [
        "import pandas as pd\n",
        "import numpy as np\n",
        "\n",
        "import matplotlib.pyplot as plt\n",
        "import seaborn as sns\n",
        "\n",
        "import plotly.express as px\n",
        "import plotly.graph_objects as go\n",
        "from plotly.subplots import make_subplots"
      ]
    },
    {
      "cell_type": "code",
      "source": [
        "df_1 = pd.read_csv('https://raw.githubusercontent.com/FCam4/Proj_6_Deep_Learning/main/Google_Playstore1.csv')\n",
        "df_2 = pd.read_csv('https://raw.githubusercontent.com/FCam4/Proj_6_Deep_Learning/main/Google_Playstore2.csv')\n",
        "df_3 = pd.read_csv('https://raw.githubusercontent.com/FCam4/Proj_6_Deep_Learning/main/Google_Playstore3.csv')\n",
        "df_4 = pd.read_csv('https://raw.githubusercontent.com/FCam4/Proj_6_Deep_Learning/main/Google_Playstore4.csv')\n",
        "df_5 = pd.read_csv('https://raw.githubusercontent.com/FCam4/Proj_6_Deep_Learning/main/Google_Playstore5.csv')\n",
        "df_6 = pd.read_csv('https://raw.githubusercontent.com/FCam4/Proj_6_Deep_Learning/main/Google_Playstore6.csv')\n",
        "df_7 = pd.read_csv('https://raw.githubusercontent.com/FCam4/Proj_6_Deep_Learning/main/Google_Playstore7.csv')\n",
        "df_8 = pd.read_csv('https://raw.githubusercontent.com/FCam4/Proj_6_Deep_Learning/main/Google_Playstore8.csv')\n",
        "df_9 = pd.read_csv('https://raw.githubusercontent.com/FCam4/Proj_6_Deep_Learning/main/Google_Playstore9.csv')\n",
        "df_10 = pd.read_csv('https://raw.githubusercontent.com/FCam4/Proj_6_Deep_Learning/main/Google_Playstore10.csv')\n",
        "df_12 = pd.concat([df_1, df_2], axis=0)\n",
        "df_123 = pd.concat([df_12, df_3], axis=0)\n",
        "df_1234 = pd.concat([df_123, df_4], axis=0)\n",
        "df_12345 = pd.concat([df_1234, df_5], axis=0)\n",
        "df_123456 = pd.concat([df_12345, df_6], axis=0)\n",
        "df_1234567 = pd.concat([df_123456, df_7], axis=0)\n",
        "df_12345678 = pd.concat([df_1234567, df_8], axis=0)\n",
        "df_123456789 = pd.concat([df_12345678, df_9], axis=0)\n",
        "df_pstore = pd.concat([df_123456789, df_10], axis=0)"
      ],
      "metadata": {
        "id": "CCAJQmw3vogP"
      },
      "execution_count": null,
      "outputs": []
    },
    {
      "cell_type": "code",
      "source": [
        "df_pstore.info()"
      ],
      "metadata": {
        "colab": {
          "base_uri": "https://localhost:8080/"
        },
        "id": "2-xNTRpVIPak",
        "outputId": "91249ce8-cab1-4a84-e046-40235ae3642d"
      },
      "execution_count": null,
      "outputs": [
        {
          "output_type": "stream",
          "name": "stdout",
          "text": [
            "<class 'pandas.core.frame.DataFrame'>\n",
            "Int64Index: 2312944 entries, 0 to 233943\n",
            "Data columns (total 24 columns):\n",
            " #   Column             Dtype  \n",
            "---  ------             -----  \n",
            " 0   App Name           object \n",
            " 1   App Id             object \n",
            " 2   Category           object \n",
            " 3   Rating             float64\n",
            " 4   Rating Count       float64\n",
            " 5   Installs           object \n",
            " 6   Minimum Installs   float64\n",
            " 7   Maximum Installs   int64  \n",
            " 8   Free               bool   \n",
            " 9   Price              float64\n",
            " 10  Currency           object \n",
            " 11  Size               object \n",
            " 12  Minimum Android    object \n",
            " 13  Developer Id       object \n",
            " 14  Developer Website  object \n",
            " 15  Developer Email    object \n",
            " 16  Released           object \n",
            " 17  Last Updated       object \n",
            " 18  Content Rating     object \n",
            " 19  Privacy Policy     object \n",
            " 20  Ad Supported       bool   \n",
            " 21  In App Purchases   bool   \n",
            " 22  Editors Choice     bool   \n",
            " 23  Scraped Time       object \n",
            "dtypes: bool(4), float64(4), int64(1), object(15)\n",
            "memory usage: 379.4+ MB\n"
          ]
        }
      ]
    },
    {
      "cell_type": "markdown",
      "source": [
        "### Minimum Android"
      ],
      "metadata": {
        "id": "dZNE2HPsRUZv"
      }
    },
    {
      "cell_type": "code",
      "source": [
        "df_pstore['Minimum Android'].value_counts()"
      ],
      "metadata": {
        "colab": {
          "base_uri": "https://localhost:8080/"
        },
        "id": "kDLYh7UKM51-",
        "outputId": "687e0165-be82-475f-8f87-5cd638e4abb3"
      },
      "execution_count": null,
      "outputs": [
        {
          "output_type": "execute_result",
          "data": {
            "text/plain": [
              "4.1 and up      604465\n",
              "5.0 and up      396998\n",
              "4.4 and up      390311\n",
              "4.0.3 and up    180482\n",
              "4.0 and up      153441\n",
              "                 ...  \n",
              "2.3 - 3.2            1\n",
              "6.0 - 7.1.1          1\n",
              "2.3 - 8.0            1\n",
              "3.0 - 7.1.1          1\n",
              "2.3.3 - 6.0          1\n",
              "Name: Minimum Android, Length: 154, dtype: int64"
            ]
          },
          "metadata": {},
          "execution_count": 5
        }
      ]
    },
    {
      "cell_type": "code",
      "source": [
        "df_pstore['Minimum Android'].hist(bins=100)"
      ],
      "metadata": {
        "colab": {
          "base_uri": "https://localhost:8080/",
          "height": 282
        },
        "id": "6YcVxZ6SO4do",
        "outputId": "28223590-7e54-402c-91c2-b35321d7f5f7"
      },
      "execution_count": null,
      "outputs": [
        {
          "output_type": "execute_result",
          "data": {
            "text/plain": [
              "<matplotlib.axes._subplots.AxesSubplot at 0x7fc5e3b4eeb0>"
            ]
          },
          "metadata": {},
          "execution_count": 6
        },
        {
          "output_type": "display_data",
          "data": {
            "text/plain": [
              "<Figure size 432x288 with 1 Axes>"
            ],
            "image/png": "[encoded data removed]"
          },
          "metadata": {
            "needs_background": "light"
          }
        }
      ]
    },
    {
      "cell_type": "code",
      "source": [
        "df_pstore['Minimum Android'].isna().sum()"
      ],
      "metadata": {
        "colab": {
          "base_uri": "https://localhost:8080/"
        },
        "id": "nVbmmkfcOsD9",
        "outputId": "1e2c9f02-95f6-432b-895a-552fbffca055"
      },
      "execution_count": null,
      "outputs": [
        {
          "output_type": "execute_result",
          "data": {
            "text/plain": [
              "6530"
            ]
          },
          "metadata": {},
          "execution_count": 7
        }
      ]
    },
    {
      "cell_type": "code",
      "source": [
        "df_pstore['Minimum Android'].describe()"
      ],
      "metadata": {
        "colab": {
          "base_uri": "https://localhost:8080/"
        },
        "id": "vBkZyxFqPMoX",
        "outputId": "6bf47b92-8ba5-4da9-a8ad-ed15a46200c4"
      },
      "execution_count": null,
      "outputs": [
        {
          "output_type": "execute_result",
          "data": {
            "text/plain": [
              "count        2306414\n",
              "unique           154\n",
              "top       4.1 and up\n",
              "freq          604465\n",
              "Name: Minimum Android, dtype: object"
            ]
          },
          "metadata": {},
          "execution_count": 8
        }
      ]
    },
    {
      "cell_type": "code",
      "source": [
        "type(df_pstore['Minimum Android'][0])"
      ],
      "metadata": {
        "colab": {
          "base_uri": "https://localhost:8080/"
        },
        "id": "PdCZ-w69Pltj",
        "outputId": "dea610c7-515d-4695-8b24-c500d1b036cc"
      },
      "execution_count": null,
      "outputs": [
        {
          "output_type": "execute_result",
          "data": {
            "text/plain": [
              "pandas.core.series.Series"
            ]
          },
          "metadata": {},
          "execution_count": 9
        }
      ]
    },
    {
      "cell_type": "markdown",
      "source": [
        "### Developer Id"
      ],
      "metadata": {
        "id": "rBHAeAfIRbC2"
      }
    },
    {
      "cell_type": "code",
      "source": [
        "df_pstore['Developer Id'].value_counts()"
      ],
      "metadata": {
        "colab": {
          "base_uri": "https://localhost:8080/"
        },
        "id": "e7yNhqHWQnuk",
        "outputId": "fe5521bb-94a4-4daf-b807-b759a538a406"
      },
      "execution_count": null,
      "outputs": [
        {
          "output_type": "execute_result",
          "data": {
            "text/plain": [
              "Subsplash Inc         5422\n",
              "TRAINERIZE            5153\n",
              "ChowNow               4865\n",
              "OrderYOYO             2884\n",
              "Phorest               2821\n",
              "                      ... \n",
              "Jack Troshinsky          1\n",
              "ITIPER                   1\n",
              "East Point Systems       1\n",
              "Yılmaz İsmail            1\n",
              "Eventi                   1\n",
              "Name: Developer Id, Length: 758371, dtype: int64"
            ]
          },
          "metadata": {},
          "execution_count": 10
        }
      ]
    },
    {
      "cell_type": "code",
      "source": [
        "df_pstore['Developer Id'].isna().sum()"
      ],
      "metadata": {
        "colab": {
          "base_uri": "https://localhost:8080/"
        },
        "id": "xjFuiKq0RBwn",
        "outputId": "3cd363b3-edde-4834-ea6f-c948c14c4013"
      },
      "execution_count": null,
      "outputs": [
        {
          "output_type": "execute_result",
          "data": {
            "text/plain": [
              "33"
            ]
          },
          "metadata": {},
          "execution_count": 11
        }
      ]
    },
    {
      "cell_type": "code",
      "source": [
        "df_pstore['Developer Id'].describe()"
      ],
      "metadata": {
        "colab": {
          "base_uri": "https://localhost:8080/"
        },
        "id": "12s01PnXRQUn",
        "outputId": "f8d08b41-364e-434f-c15a-ab5975fe4bc9"
      },
      "execution_count": null,
      "outputs": [
        {
          "output_type": "execute_result",
          "data": {
            "text/plain": [
              "count           2312911\n",
              "unique           758371\n",
              "top       Subsplash Inc\n",
              "freq               5422\n",
              "Name: Developer Id, dtype: object"
            ]
          },
          "metadata": {},
          "execution_count": 12
        }
      ]
    },
    {
      "cell_type": "markdown",
      "source": [
        "### Developer Website"
      ],
      "metadata": {
        "id": "VEFnfIzxUzHK"
      }
    },
    {
      "cell_type": "code",
      "source": [
        "df_pstore['Developer Website'].value_counts()"
      ],
      "metadata": {
        "colab": {
          "base_uri": "https://localhost:8080/"
        },
        "id": "b4oyB-IfUywC",
        "outputId": "d4dc1f55-9ed6-463b-f752-a8b8932924c9"
      },
      "execution_count": null,
      "outputs": [
        {
          "output_type": "execute_result",
          "data": {
            "text/plain": [
              "http://www.subsplash.com/                                  7519\n",
              "http://www.chownow.com                                     4508\n",
              "http://www.sharefaith.com/category/church-websites.html    2057\n",
              "https://zeta-mars.blogspot.com                             1877\n",
              "https://foodsoul.pro                                       1802\n",
              "                                                           ... \n",
              "http://www.icc.qc.ca                                          1\n",
              "https://myfresh.app/                                          1\n",
              "https://westminsterschoolsalumni.org/                         1\n",
              "http://app.availrx.ca                                         1\n",
              "http://www.oru.edu/                                           1\n",
              "Name: Developer Website, Length: 810440, dtype: int64"
            ]
          },
          "metadata": {},
          "execution_count": 13
        }
      ]
    },
    {
      "cell_type": "code",
      "source": [
        "df_pstore['Developer Website'].isna().sum()"
      ],
      "metadata": {
        "colab": {
          "base_uri": "https://localhost:8080/"
        },
        "id": "Monsga-PVGuF",
        "outputId": "4ebed3e2-6332-4065-cbed-4a9bc324d146"
      },
      "execution_count": null,
      "outputs": [
        {
          "output_type": "execute_result",
          "data": {
            "text/plain": [
              "760835"
            ]
          },
          "metadata": {},
          "execution_count": 14
        }
      ]
    },
    {
      "cell_type": "code",
      "source": [
        "df_pstore['Developer Website'].describe()"
      ],
      "metadata": {
        "colab": {
          "base_uri": "https://localhost:8080/"
        },
        "id": "b2cTfP4FVInB",
        "outputId": "1713caf1-bcca-41cf-b007-7628c4b4434c"
      },
      "execution_count": null,
      "outputs": [
        {
          "output_type": "execute_result",
          "data": {
            "text/plain": [
              "count                       1552109\n",
              "unique                       810440\n",
              "top       http://www.subsplash.com/\n",
              "freq                           7519\n",
              "Name: Developer Website, dtype: object"
            ]
          },
          "metadata": {},
          "execution_count": 15
        }
      ]
    },
    {
      "cell_type": "markdown",
      "source": [
        "### Developer Email"
      ],
      "metadata": {
        "id": "OnCM-xCGVygx"
      }
    },
    {
      "cell_type": "code",
      "source": [
        "df_pstore['Developer Email'].value_counts()"
      ],
      "metadata": {
        "colab": {
          "base_uri": "https://localhost:8080/"
        },
        "id": "PQyd96ZmVwFO",
        "outputId": "cf76c6d1-9b28-4204-fde5-5b071633af73"
      },
      "execution_count": null,
      "outputs": [
        {
          "output_type": "execute_result",
          "data": {
            "text/plain": [
              "support@classplus.co                   10345\n",
              "appsupport@subsplash.com                7570\n",
              "help@trainerize.com                     4886\n",
              "eng-android@chownow.com                 4862\n",
              "support@mindbodyonline.com              3047\n",
              "                                       ...  \n",
              "sejong87@gmail.com                         1\n",
              "profiroll@profiroll.de                     1\n",
              "info@formulariumnijmegen.nl                1\n",
              "ask.koel950am@townsquaredigital.com        1\n",
              "rachmanaditya5@gmail.com                   1\n",
              "Name: Developer Email, Length: 950456, dtype: int64"
            ]
          },
          "metadata": {},
          "execution_count": 16
        }
      ]
    },
    {
      "cell_type": "code",
      "source": [
        "df_pstore['Developer Email'].isna().sum()"
      ],
      "metadata": {
        "colab": {
          "base_uri": "https://localhost:8080/"
        },
        "id": "NXFfG7BaV5d1",
        "outputId": "fc912491-23c1-49aa-b132-178168400552"
      },
      "execution_count": null,
      "outputs": [
        {
          "output_type": "execute_result",
          "data": {
            "text/plain": [
              "31"
            ]
          },
          "metadata": {},
          "execution_count": 17
        }
      ]
    },
    {
      "cell_type": "code",
      "source": [
        "df_pstore['Developer Email'].describe()"
      ],
      "metadata": {
        "colab": {
          "base_uri": "https://localhost:8080/"
        },
        "id": "XeXCkEffV6im",
        "outputId": "0260b51e-98f9-4d9e-c14c-51071cd16092"
      },
      "execution_count": null,
      "outputs": [
        {
          "output_type": "execute_result",
          "data": {
            "text/plain": [
              "count                  2312913\n",
              "unique                  950456\n",
              "top       support@classplus.co\n",
              "freq                     10345\n",
              "Name: Developer Email, dtype: object"
            ]
          },
          "metadata": {},
          "execution_count": 18
        }
      ]
    },
    {
      "cell_type": "markdown",
      "source": [
        "### Released"
      ],
      "metadata": {
        "id": "X7A4AczQXa_I"
      }
    },
    {
      "cell_type": "code",
      "source": [
        "df_pstore['Released'].value_counts()"
      ],
      "metadata": {
        "colab": {
          "base_uri": "https://localhost:8080/"
        },
        "id": "LZyjAwLKXeSB",
        "outputId": "570fe241-5723-433b-aee2-e0790569d419"
      },
      "execution_count": null,
      "outputs": [
        {
          "output_type": "execute_result",
          "data": {
            "text/plain": [
              "Jun 16, 2020    2051\n",
              "Feb 27, 2020    2034\n",
              "Jun 15, 2020    2025\n",
              "Jun 24, 2020    2022\n",
              "Feb 19, 2020    2015\n",
              "                ... \n",
              "Mar 13, 2010       2\n",
              "Jun 16, 2010       1\n",
              "Jun 16, 2021       1\n",
              "Apr 5, 2010        1\n",
              "Apr 10, 2010       1\n",
              "Name: Released, Length: 4158, dtype: int64"
            ]
          },
          "metadata": {},
          "execution_count": 19
        }
      ]
    },
    {
      "cell_type": "code",
      "source": [
        "df_pstore['Released'].isna().sum()"
      ],
      "metadata": {
        "colab": {
          "base_uri": "https://localhost:8080/"
        },
        "id": "Y-v2wb5vXewY",
        "outputId": "1cc9f64d-aa5d-4670-e711-fc5627a9a946"
      },
      "execution_count": null,
      "outputs": [
        {
          "output_type": "execute_result",
          "data": {
            "text/plain": [
              "71053"
            ]
          },
          "metadata": {},
          "execution_count": 20
        }
      ]
    },
    {
      "cell_type": "code",
      "source": [
        "df_pstore['Released'].describe()"
      ],
      "metadata": {
        "colab": {
          "base_uri": "https://localhost:8080/"
        },
        "id": "E0XtlJIiXg6O",
        "outputId": "f9a66be1-7142-4570-9aca-94a6db01ef25"
      },
      "execution_count": null,
      "outputs": [
        {
          "output_type": "execute_result",
          "data": {
            "text/plain": [
              "count          2241891\n",
              "unique            4158\n",
              "top       Jun 16, 2020\n",
              "freq              2051\n",
              "Name: Released, dtype: object"
            ]
          },
          "metadata": {},
          "execution_count": 21
        }
      ]
    },
    {
      "cell_type": "markdown",
      "source": [
        "### Last Updated"
      ],
      "metadata": {
        "id": "OX4uh7fhZApq"
      }
    },
    {
      "cell_type": "code",
      "source": [
        "df_pstore['Last Updated'].value_counts()"
      ],
      "metadata": {
        "colab": {
          "base_uri": "https://localhost:8080/"
        },
        "id": "kE3dNrzhZDgS",
        "outputId": "5a3ec78f-47a2-49d2-b048-608fd866e7cd"
      },
      "execution_count": null,
      "outputs": [
        {
          "output_type": "execute_result",
          "data": {
            "text/plain": [
              "Jun 10, 2021    11186\n",
              "Jun 11, 2021    10514\n",
              "Jun 09, 2021    10210\n",
              "Jun 14, 2021     9957\n",
              "Jun 08, 2021     9844\n",
              "                ...  \n",
              "Sep 07, 2010        1\n",
              "Aug 20, 2011        1\n",
              "Dec 06, 2010        1\n",
              "Jul 29, 2010        1\n",
              "Dec 20, 2010        1\n",
              "Name: Last Updated, Length: 3918, dtype: int64"
            ]
          },
          "metadata": {},
          "execution_count": 22
        }
      ]
    },
    {
      "cell_type": "code",
      "source": [
        "df_pstore['Last Updated'].isna().sum()"
      ],
      "metadata": {
        "colab": {
          "base_uri": "https://localhost:8080/"
        },
        "id": "TeNl8Z_dZFSd",
        "outputId": "6a3c702d-bbe2-461d-affd-f54e16fe2b0a"
      },
      "execution_count": null,
      "outputs": [
        {
          "output_type": "execute_result",
          "data": {
            "text/plain": [
              "0"
            ]
          },
          "metadata": {},
          "execution_count": 23
        }
      ]
    },
    {
      "cell_type": "code",
      "source": [
        "df_pstore['Last Updated'].describe()"
      ],
      "metadata": {
        "colab": {
          "base_uri": "https://localhost:8080/"
        },
        "id": "978pf2ULZGK9",
        "outputId": "37da6091-c04f-4345-98e6-dd8195d0201d"
      },
      "execution_count": null,
      "outputs": [
        {
          "output_type": "execute_result",
          "data": {
            "text/plain": [
              "count          2312944\n",
              "unique            3918\n",
              "top       Jun 10, 2021\n",
              "freq             11186\n",
              "Name: Last Updated, dtype: object"
            ]
          },
          "metadata": {},
          "execution_count": 24
        }
      ]
    },
    {
      "cell_type": "markdown",
      "source": [
        "### Content Rating"
      ],
      "metadata": {
        "id": "HlNZZJ2TaE9N"
      }
    },
    {
      "cell_type": "code",
      "source": [
        "df_pstore['Content Rating'].value_counts()"
      ],
      "metadata": {
        "colab": {
          "base_uri": "https://localhost:8080/"
        },
        "id": "UEmjATwJaHuN",
        "outputId": "d07f9d5a-06a9-4a0c-e497-403318313191"
      },
      "execution_count": null,
      "outputs": [
        {
          "output_type": "execute_result",
          "data": {
            "text/plain": [
              "Everyone           2022089\n",
              "Teen                196375\n",
              "Mature 17+           60289\n",
              "Everyone 10+         33901\n",
              "Unrated                154\n",
              "Adults only 18+        136\n",
              "Name: Content Rating, dtype: int64"
            ]
          },
          "metadata": {},
          "execution_count": 25
        }
      ]
    },
    {
      "cell_type": "code",
      "source": [
        "df_pstore['Content Rating'].isna().sum()"
      ],
      "metadata": {
        "colab": {
          "base_uri": "https://localhost:8080/"
        },
        "id": "wMmmagHxaKLc",
        "outputId": "46eee55d-3691-4e74-ee27-5c1143aac1dd"
      },
      "execution_count": null,
      "outputs": [
        {
          "output_type": "execute_result",
          "data": {
            "text/plain": [
              "0"
            ]
          },
          "metadata": {},
          "execution_count": 26
        }
      ]
    },
    {
      "cell_type": "code",
      "source": [
        "df_pstore['Content Rating'].describe()"
      ],
      "metadata": {
        "colab": {
          "base_uri": "https://localhost:8080/"
        },
        "id": "b9J5xNB6aL5s",
        "outputId": "ab51172c-a562-4ccb-a27c-96e8c3b8ad84"
      },
      "execution_count": null,
      "outputs": [
        {
          "output_type": "execute_result",
          "data": {
            "text/plain": [
              "count      2312944\n",
              "unique           6\n",
              "top       Everyone\n",
              "freq       2022089\n",
              "Name: Content Rating, dtype: object"
            ]
          },
          "metadata": {},
          "execution_count": 27
        }
      ]
    },
    {
      "cell_type": "markdown",
      "source": [
        "### Privacy Policy"
      ],
      "metadata": {
        "id": "dgkd9seReayN"
      }
    },
    {
      "cell_type": "code",
      "source": [
        "df_pstore['Privacy Policy'].value_counts()"
      ],
      "metadata": {
        "colab": {
          "base_uri": "https://localhost:8080/"
        },
        "id": "f9x6J5n0ecUk",
        "outputId": "2ea9f2ba-5baa-4a98-f1a2-47b4c5e7e443"
      },
      "execution_count": null,
      "outputs": [
        {
          "output_type": "execute_result",
          "data": {
            "text/plain": [
              "http://www.subsplash.com/legal/privacy                                            7481\n",
              "https://unity3d.com/legal/privacy-policy                                          5312\n",
              "http://www.trainerize.com/privacy.aspx                                            5181\n",
              "http://www.chownow.com/privacy-policy                                             4783\n",
              "https://classplusapp.com/privacy.html                                             4373\n",
              "                                                                                  ... \n",
              "https://protsak2017.blogspot.com/2017/11/wallpaper-privacy-policy.html               1\n",
              "http://aplus-development.com/policy/schoolapp/policy.php?app=4365&lg=en              1\n",
              "https://www.rewindit.fm/privacy.html                                                 1\n",
              "https://app.appmobilecity.com/application/privacypolicy/index/id/6008776bb8c57       1\n",
              "https://biliyor-musun-sons.flycricket.io/privacy.html                                1\n",
              "Name: Privacy Policy, Length: 977743, dtype: int64"
            ]
          },
          "metadata": {},
          "execution_count": 28
        }
      ]
    },
    {
      "cell_type": "code",
      "source": [
        "df_pstore['Privacy Policy'].isna().sum()"
      ],
      "metadata": {
        "colab": {
          "base_uri": "https://localhost:8080/"
        },
        "id": "sQID7dYceenc",
        "outputId": "7399fbc8-2970-4e17-8560-656fcdbaf09d"
      },
      "execution_count": null,
      "outputs": [
        {
          "output_type": "execute_result",
          "data": {
            "text/plain": [
              "420953"
            ]
          },
          "metadata": {},
          "execution_count": 29
        }
      ]
    },
    {
      "cell_type": "code",
      "source": [
        "df_pstore['Privacy Policy'].describe()"
      ],
      "metadata": {
        "colab": {
          "base_uri": "https://localhost:8080/"
        },
        "id": "9tXgL9dbef39",
        "outputId": "2e9c0612-a344-4a86-9f60-0637c3dc06a1"
      },
      "execution_count": null,
      "outputs": [
        {
          "output_type": "execute_result",
          "data": {
            "text/plain": [
              "count                                    1891991\n",
              "unique                                    977743\n",
              "top       http://www.subsplash.com/legal/privacy\n",
              "freq                                        7481\n",
              "Name: Privacy Policy, dtype: object"
            ]
          },
          "metadata": {},
          "execution_count": 30
        }
      ]
    },
    {
      "cell_type": "markdown",
      "source": [
        "### Ad Supported"
      ],
      "metadata": {
        "id": "XbnZC3wjfdF7"
      }
    },
    {
      "cell_type": "code",
      "source": [
        "df_pstore['Ad Supported'].value_counts()"
      ],
      "metadata": {
        "colab": {
          "base_uri": "https://localhost:8080/"
        },
        "id": "sKNdx0Rkgkq6",
        "outputId": "9b122e8d-4913-4227-dc82-5cd80e9f538d"
      },
      "execution_count": null,
      "outputs": [
        {
          "output_type": "execute_result",
          "data": {
            "text/plain": [
              "False    1162170\n",
              "True     1150774\n",
              "Name: Ad Supported, dtype: int64"
            ]
          },
          "metadata": {},
          "execution_count": 31
        }
      ]
    },
    {
      "cell_type": "code",
      "source": [
        "df_pstore['Ad Supported'].isna().sum()"
      ],
      "metadata": {
        "colab": {
          "base_uri": "https://localhost:8080/"
        },
        "id": "HrOaot0JglvO",
        "outputId": "60b3881e-a467-4443-d335-05c09806c19c"
      },
      "execution_count": null,
      "outputs": [
        {
          "output_type": "execute_result",
          "data": {
            "text/plain": [
              "0"
            ]
          },
          "metadata": {},
          "execution_count": 32
        }
      ]
    },
    {
      "cell_type": "code",
      "source": [
        "df_pstore['Ad Supported'].describe()"
      ],
      "metadata": {
        "colab": {
          "base_uri": "https://localhost:8080/"
        },
        "id": "vFa_k5hhgnBi",
        "outputId": "9384e45b-303c-44c6-cd01-d2ddcc249b51"
      },
      "execution_count": null,
      "outputs": [
        {
          "output_type": "execute_result",
          "data": {
            "text/plain": [
              "count     2312944\n",
              "unique          2\n",
              "top         False\n",
              "freq      1162170\n",
              "Name: Ad Supported, dtype: object"
            ]
          },
          "metadata": {},
          "execution_count": 33
        }
      ]
    },
    {
      "cell_type": "markdown",
      "source": [
        "### In App Purchases"
      ],
      "metadata": {
        "id": "UAxnysydfhyi"
      }
    },
    {
      "cell_type": "code",
      "source": [
        "df_pstore['In App Purchases'].value_counts()"
      ],
      "metadata": {
        "colab": {
          "base_uri": "https://localhost:8080/"
        },
        "id": "3RhXuxgwgsdh",
        "outputId": "9a7f410a-2a3e-4d0b-fa6a-8ed53f6077b5"
      },
      "execution_count": null,
      "outputs": [
        {
          "output_type": "execute_result",
          "data": {
            "text/plain": [
              "False    2117635\n",
              "True      195309\n",
              "Name: In App Purchases, dtype: int64"
            ]
          },
          "metadata": {},
          "execution_count": 34
        }
      ]
    },
    {
      "cell_type": "code",
      "source": [
        "df_pstore['In App Purchases'].isna().sum()"
      ],
      "metadata": {
        "colab": {
          "base_uri": "https://localhost:8080/"
        },
        "id": "Ezj1Ui-Xgune",
        "outputId": "8b7f6108-e6c3-482c-afb3-a5b79acfc794"
      },
      "execution_count": null,
      "outputs": [
        {
          "output_type": "execute_result",
          "data": {
            "text/plain": [
              "0"
            ]
          },
          "metadata": {},
          "execution_count": 35
        }
      ]
    },
    {
      "cell_type": "code",
      "source": [
        "df_pstore['In App Purchases'].describe()"
      ],
      "metadata": {
        "colab": {
          "base_uri": "https://localhost:8080/"
        },
        "id": "Qsc9bOmMgw4Z",
        "outputId": "1800a3b5-5326-4e6e-e44f-5517c29fc8cc"
      },
      "execution_count": null,
      "outputs": [
        {
          "output_type": "execute_result",
          "data": {
            "text/plain": [
              "count     2312944\n",
              "unique          2\n",
              "top         False\n",
              "freq      2117635\n",
              "Name: In App Purchases, dtype: object"
            ]
          },
          "metadata": {},
          "execution_count": 36
        }
      ]
    },
    {
      "cell_type": "markdown",
      "source": [
        "### Editors Choice"
      ],
      "metadata": {
        "id": "CMDEsNHJfk0v"
      }
    },
    {
      "cell_type": "code",
      "source": [
        "df_pstore['Editors Choice'].value_counts()"
      ],
      "metadata": {
        "colab": {
          "base_uri": "https://localhost:8080/"
        },
        "id": "XylTiBPdgtC7",
        "outputId": "921f23b2-1f13-4fa4-cb77-9ca0fa656acd"
      },
      "execution_count": null,
      "outputs": [
        {
          "output_type": "execute_result",
          "data": {
            "text/plain": [
              "False    2312091\n",
              "True         853\n",
              "Name: Editors Choice, dtype: int64"
            ]
          },
          "metadata": {},
          "execution_count": 37
        }
      ]
    },
    {
      "cell_type": "code",
      "source": [
        "df_pstore['Editors Choice'].isna().sum()"
      ],
      "metadata": {
        "colab": {
          "base_uri": "https://localhost:8080/"
        },
        "id": "-Nwf_TsjgvR6",
        "outputId": "7583e3cc-49fb-4a3e-eb83-fa79be62b464"
      },
      "execution_count": null,
      "outputs": [
        {
          "output_type": "execute_result",
          "data": {
            "text/plain": [
              "0"
            ]
          },
          "metadata": {},
          "execution_count": 38
        }
      ]
    },
    {
      "cell_type": "code",
      "source": [
        "df_pstore['Editors Choice'].describe()"
      ],
      "metadata": {
        "colab": {
          "base_uri": "https://localhost:8080/"
        },
        "id": "QCyWa1vAgvMN",
        "outputId": "cd54f57e-a43f-40a7-f838-a3417bd7201b"
      },
      "execution_count": null,
      "outputs": [
        {
          "output_type": "execute_result",
          "data": {
            "text/plain": [
              "count     2312944\n",
              "unique          2\n",
              "top         False\n",
              "freq      2312091\n",
              "Name: Editors Choice, dtype: object"
            ]
          },
          "metadata": {},
          "execution_count": 39
        }
      ]
    },
    {
      "cell_type": "markdown",
      "source": [
        "### Scraped Time"
      ],
      "metadata": {
        "id": "0WyaXZ-Efoj2"
      }
    },
    {
      "cell_type": "code",
      "source": [
        "df_pstore['Scraped Time'].value_counts()"
      ],
      "metadata": {
        "colab": {
          "base_uri": "https://localhost:8080/"
        },
        "id": "F9kRgs6LgtmR",
        "outputId": "6c1d067d-612c-4d5f-93d4-7a26cb694005"
      },
      "execution_count": null,
      "outputs": [
        {
          "output_type": "execute_result",
          "data": {
            "text/plain": [
              "2021-06-16 07:35:57    56\n",
              "2021-06-16 06:31:44    56\n",
              "2021-06-16 09:24:26    55\n",
              "2021-06-16 04:07:47    55\n",
              "2021-06-16 11:16:27    55\n",
              "                       ..\n",
              "2021-06-15 22:59:03     1\n",
              "2021-06-16 03:49:44     1\n",
              "2021-06-15 22:43:54     1\n",
              "2021-06-16 07:38:57     1\n",
              "2021-06-16 13:26:03     1\n",
              "Name: Scraped Time, Length: 67374, dtype: int64"
            ]
          },
          "metadata": {},
          "execution_count": 40
        }
      ]
    },
    {
      "cell_type": "code",
      "source": [
        "df_pstore['Scraped Time'].isna().sum()"
      ],
      "metadata": {
        "colab": {
          "base_uri": "https://localhost:8080/"
        },
        "id": "OEaA8jIPgvyx",
        "outputId": "43c47a85-f2ce-410e-f87e-dc08132b2187"
      },
      "execution_count": null,
      "outputs": [
        {
          "output_type": "execute_result",
          "data": {
            "text/plain": [
              "0"
            ]
          },
          "metadata": {},
          "execution_count": 41
        }
      ]
    },
    {
      "cell_type": "code",
      "source": [
        "df_pstore['Scraped Time'].describe()"
      ],
      "metadata": {
        "colab": {
          "base_uri": "https://localhost:8080/"
        },
        "id": "bQwSo7J9gx0f",
        "outputId": "9acb5145-5c8d-4c15-f0ec-e2847306c101"
      },
      "execution_count": null,
      "outputs": [
        {
          "output_type": "execute_result",
          "data": {
            "text/plain": [
              "count                 2312944\n",
              "unique                  67374\n",
              "top       2021-06-16 07:35:57\n",
              "freq                       56\n",
              "Name: Scraped Time, dtype: object"
            ]
          },
          "metadata": {},
          "execution_count": 42
        }
      ]
    },
    {
      "cell_type": "markdown",
      "source": [
        "### Correlation"
      ],
      "metadata": {
        "id": "sFGD5IhoiTjo"
      }
    },
    {
      "cell_type": "code",
      "source": [
        "sns.heatmap(df_pstore.corr(), vmax=1, vmin=-1, center=0, cmap='BrBG_r')"
      ],
      "metadata": {
        "colab": {
          "base_uri": "https://localhost:8080/"
        },
        "id": "UFcuhtscieD4",
        "outputId": "dbff49ef-5fbc-4a9b-fd75-4fafcb5a918f"
      },
      "execution_count": null,
      "outputs": [
        {
          "output_type": "execute_result",
          "data": {
            "text/plain": [
              "<matplotlib.axes._subplots.AxesSubplot at 0x7fc5e33509d0>"
            ]
          },
          "metadata": {},
          "execution_count": 43
        },
        {
          "output_type": "display_data",
          "data": {
            "text/plain": [
              "<Figure size 432x288 with 2 Axes>"
            ],
            "image/png": "[encoded data removed]"
          },
          "metadata": {
            "needs_background": "light"
          }
        }
      ]
    }
  ]
}